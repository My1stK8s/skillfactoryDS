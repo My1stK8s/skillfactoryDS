{
 "cells": [
  {
   "cell_type": "code",
   "execution_count": 1,
   "metadata": {},
   "outputs": [],
   "source": [
    "import pandas as pd\n",
    "from sklearn.model_selection import train_test_split"
   ]
  },
  {
   "cell_type": "code",
   "execution_count": 2,
   "metadata": {},
   "outputs": [],
   "source": [
    "vis_data = pd.read_csv(\"./train.csv\", encoding = 'ISO-8859-1', low_memory = False)"
   ]
  },
  {
   "cell_type": "code",
   "execution_count": 3,
   "metadata": {},
   "outputs": [
    {
     "data": {
      "text/html": [
       "<div>\n",
       "<style scoped>\n",
       "    .dataframe tbody tr th:only-of-type {\n",
       "        vertical-align: middle;\n",
       "    }\n",
       "\n",
       "    .dataframe tbody tr th {\n",
       "        vertical-align: top;\n",
       "    }\n",
       "\n",
       "    .dataframe thead th {\n",
       "        text-align: right;\n",
       "    }\n",
       "</style>\n",
       "<table border=\"1\" class=\"dataframe\">\n",
       "  <thead>\n",
       "    <tr style=\"text-align: right;\">\n",
       "      <th></th>\n",
       "      <th>ticket_id</th>\n",
       "      <th>agency_name</th>\n",
       "      <th>inspector_name</th>\n",
       "      <th>violator_name</th>\n",
       "      <th>violation_street_number</th>\n",
       "      <th>violation_street_name</th>\n",
       "      <th>violation_zip_code</th>\n",
       "      <th>mailing_address_str_number</th>\n",
       "      <th>mailing_address_str_name</th>\n",
       "      <th>city</th>\n",
       "      <th>...</th>\n",
       "      <th>clean_up_cost</th>\n",
       "      <th>judgment_amount</th>\n",
       "      <th>payment_amount</th>\n",
       "      <th>balance_due</th>\n",
       "      <th>payment_date</th>\n",
       "      <th>payment_status</th>\n",
       "      <th>collection_status</th>\n",
       "      <th>grafitti_status</th>\n",
       "      <th>compliance_detail</th>\n",
       "      <th>compliance</th>\n",
       "    </tr>\n",
       "  </thead>\n",
       "  <tbody>\n",
       "    <tr>\n",
       "      <td>0</td>\n",
       "      <td>22056</td>\n",
       "      <td>Buildings, Safety Engineering &amp; Env Department</td>\n",
       "      <td>Sims, Martinzie</td>\n",
       "      <td>INVESTMENT INC., MIDWEST MORTGAGE</td>\n",
       "      <td>2900.0</td>\n",
       "      <td>TYLER</td>\n",
       "      <td>NaN</td>\n",
       "      <td>3.0</td>\n",
       "      <td>S. WICKER</td>\n",
       "      <td>CHICAGO</td>\n",
       "      <td>...</td>\n",
       "      <td>0.0</td>\n",
       "      <td>305.0</td>\n",
       "      <td>0.0</td>\n",
       "      <td>305.0</td>\n",
       "      <td>NaN</td>\n",
       "      <td>NO PAYMENT APPLIED</td>\n",
       "      <td>NaN</td>\n",
       "      <td>NaN</td>\n",
       "      <td>non-compliant by no payment</td>\n",
       "      <td>0.0</td>\n",
       "    </tr>\n",
       "    <tr>\n",
       "      <td>1</td>\n",
       "      <td>27586</td>\n",
       "      <td>Buildings, Safety Engineering &amp; Env Department</td>\n",
       "      <td>Williams, Darrin</td>\n",
       "      <td>Michigan, Covenant House</td>\n",
       "      <td>4311.0</td>\n",
       "      <td>CENTRAL</td>\n",
       "      <td>NaN</td>\n",
       "      <td>2959.0</td>\n",
       "      <td>Martin Luther King</td>\n",
       "      <td>Detroit</td>\n",
       "      <td>...</td>\n",
       "      <td>0.0</td>\n",
       "      <td>855.0</td>\n",
       "      <td>780.0</td>\n",
       "      <td>75.0</td>\n",
       "      <td>2005-06-02 00:00:00</td>\n",
       "      <td>PAID IN FULL</td>\n",
       "      <td>NaN</td>\n",
       "      <td>NaN</td>\n",
       "      <td>compliant by late payment within 1 month</td>\n",
       "      <td>1.0</td>\n",
       "    </tr>\n",
       "    <tr>\n",
       "      <td>2</td>\n",
       "      <td>22062</td>\n",
       "      <td>Buildings, Safety Engineering &amp; Env Department</td>\n",
       "      <td>Sims, Martinzie</td>\n",
       "      <td>SANDERS, DERRON</td>\n",
       "      <td>1449.0</td>\n",
       "      <td>LONGFELLOW</td>\n",
       "      <td>NaN</td>\n",
       "      <td>23658.0</td>\n",
       "      <td>P.O. BOX</td>\n",
       "      <td>DETROIT</td>\n",
       "      <td>...</td>\n",
       "      <td>0.0</td>\n",
       "      <td>0.0</td>\n",
       "      <td>0.0</td>\n",
       "      <td>0.0</td>\n",
       "      <td>NaN</td>\n",
       "      <td>NO PAYMENT APPLIED</td>\n",
       "      <td>NaN</td>\n",
       "      <td>NaN</td>\n",
       "      <td>not responsible by disposition</td>\n",
       "      <td>NaN</td>\n",
       "    </tr>\n",
       "    <tr>\n",
       "      <td>3</td>\n",
       "      <td>22084</td>\n",
       "      <td>Buildings, Safety Engineering &amp; Env Department</td>\n",
       "      <td>Sims, Martinzie</td>\n",
       "      <td>MOROSI, MIKE</td>\n",
       "      <td>1441.0</td>\n",
       "      <td>LONGFELLOW</td>\n",
       "      <td>NaN</td>\n",
       "      <td>5.0</td>\n",
       "      <td>ST. CLAIR</td>\n",
       "      <td>DETROIT</td>\n",
       "      <td>...</td>\n",
       "      <td>0.0</td>\n",
       "      <td>0.0</td>\n",
       "      <td>0.0</td>\n",
       "      <td>0.0</td>\n",
       "      <td>NaN</td>\n",
       "      <td>NO PAYMENT APPLIED</td>\n",
       "      <td>NaN</td>\n",
       "      <td>NaN</td>\n",
       "      <td>not responsible by disposition</td>\n",
       "      <td>NaN</td>\n",
       "    </tr>\n",
       "    <tr>\n",
       "      <td>4</td>\n",
       "      <td>22093</td>\n",
       "      <td>Buildings, Safety Engineering &amp; Env Department</td>\n",
       "      <td>Sims, Martinzie</td>\n",
       "      <td>NATHANIEL, NEAL</td>\n",
       "      <td>2449.0</td>\n",
       "      <td>CHURCHILL</td>\n",
       "      <td>NaN</td>\n",
       "      <td>7449.0</td>\n",
       "      <td>CHURCHILL</td>\n",
       "      <td>DETROIT</td>\n",
       "      <td>...</td>\n",
       "      <td>0.0</td>\n",
       "      <td>0.0</td>\n",
       "      <td>0.0</td>\n",
       "      <td>0.0</td>\n",
       "      <td>NaN</td>\n",
       "      <td>NO PAYMENT APPLIED</td>\n",
       "      <td>NaN</td>\n",
       "      <td>NaN</td>\n",
       "      <td>not responsible by disposition</td>\n",
       "      <td>NaN</td>\n",
       "    </tr>\n",
       "  </tbody>\n",
       "</table>\n",
       "<p>5 rows × 34 columns</p>\n",
       "</div>"
      ],
      "text/plain": [
       "   ticket_id                                     agency_name  \\\n",
       "0      22056  Buildings, Safety Engineering & Env Department   \n",
       "1      27586  Buildings, Safety Engineering & Env Department   \n",
       "2      22062  Buildings, Safety Engineering & Env Department   \n",
       "3      22084  Buildings, Safety Engineering & Env Department   \n",
       "4      22093  Buildings, Safety Engineering & Env Department   \n",
       "\n",
       "     inspector_name                      violator_name  \\\n",
       "0   Sims, Martinzie  INVESTMENT INC., MIDWEST MORTGAGE   \n",
       "1  Williams, Darrin           Michigan, Covenant House   \n",
       "2   Sims, Martinzie                    SANDERS, DERRON   \n",
       "3   Sims, Martinzie                       MOROSI, MIKE   \n",
       "4   Sims, Martinzie                    NATHANIEL, NEAL   \n",
       "\n",
       "   violation_street_number violation_street_name  violation_zip_code  \\\n",
       "0                   2900.0                 TYLER                 NaN   \n",
       "1                   4311.0               CENTRAL                 NaN   \n",
       "2                   1449.0            LONGFELLOW                 NaN   \n",
       "3                   1441.0            LONGFELLOW                 NaN   \n",
       "4                   2449.0             CHURCHILL                 NaN   \n",
       "\n",
       "   mailing_address_str_number mailing_address_str_name     city  ...  \\\n",
       "0                         3.0                S. WICKER  CHICAGO  ...   \n",
       "1                      2959.0       Martin Luther King  Detroit  ...   \n",
       "2                     23658.0                 P.O. BOX  DETROIT  ...   \n",
       "3                         5.0                ST. CLAIR  DETROIT  ...   \n",
       "4                      7449.0                CHURCHILL  DETROIT  ...   \n",
       "\n",
       "  clean_up_cost judgment_amount payment_amount balance_due  \\\n",
       "0           0.0           305.0            0.0       305.0   \n",
       "1           0.0           855.0          780.0        75.0   \n",
       "2           0.0             0.0            0.0         0.0   \n",
       "3           0.0             0.0            0.0         0.0   \n",
       "4           0.0             0.0            0.0         0.0   \n",
       "\n",
       "          payment_date      payment_status collection_status grafitti_status  \\\n",
       "0                  NaN  NO PAYMENT APPLIED               NaN             NaN   \n",
       "1  2005-06-02 00:00:00        PAID IN FULL               NaN             NaN   \n",
       "2                  NaN  NO PAYMENT APPLIED               NaN             NaN   \n",
       "3                  NaN  NO PAYMENT APPLIED               NaN             NaN   \n",
       "4                  NaN  NO PAYMENT APPLIED               NaN             NaN   \n",
       "\n",
       "                          compliance_detail  compliance  \n",
       "0               non-compliant by no payment         0.0  \n",
       "1  compliant by late payment within 1 month         1.0  \n",
       "2            not responsible by disposition         NaN  \n",
       "3            not responsible by disposition         NaN  \n",
       "4            not responsible by disposition         NaN  \n",
       "\n",
       "[5 rows x 34 columns]"
      ]
     },
     "execution_count": 3,
     "metadata": {},
     "output_type": "execute_result"
    }
   ],
   "source": [
    "vis_data.head()"
   ]
  },
  {
   "cell_type": "code",
   "execution_count": 4,
   "metadata": {},
   "outputs": [],
   "source": [
    "train, test = train_test_split(vis_data, test_size=0.3, shuffle=False)"
   ]
  },
  {
   "cell_type": "code",
   "execution_count": 5,
   "metadata": {},
   "outputs": [],
   "source": [
    "result = test['payment_amount'].mean()"
   ]
  },
  {
   "cell_type": "code",
   "execution_count": 6,
   "metadata": {},
   "outputs": [],
   "source": [
    "# 4.5.1.\n",
    "from sklearn.linear_model import LinearRegression\n",
    "from sklearn.model_selection import train_test_split\n",
    "from sklearn.metrics import mean_squared_error\n",
    "vis_data = pd.read_csv(\"./train.csv\", encoding = 'ISO-8859-1', low_memory = False)"
   ]
  },
  {
   "cell_type": "code",
   "execution_count": 7,
   "metadata": {},
   "outputs": [],
   "source": [
    "import numpy as np\n",
    "vis_data_new = vis_data[['fine_amount', 'state_fee', 'late_fee', 'discount_amount', 'balance_due']]"
   ]
  },
  {
   "cell_type": "code",
   "execution_count": 8,
   "metadata": {},
   "outputs": [],
   "source": [
    "vis_data_clean = vis_data_new.dropna()"
   ]
  },
  {
   "cell_type": "code",
   "execution_count": 9,
   "metadata": {},
   "outputs": [],
   "source": [
    "X = vis_data_clean.iloc[:,:-1].values\n",
    "y = vis_data_clean.iloc[:,-1].values "
   ]
  },
  {
   "cell_type": "code",
   "execution_count": 10,
   "metadata": {},
   "outputs": [],
   "source": [
    "# выделяем обучающую и тестовую выборку\n",
    "X_train, X_test, y_train, y_test = train_test_split(X, y, test_size= 0.3, shuffle=False)"
   ]
  },
  {
   "cell_type": "code",
   "execution_count": 11,
   "metadata": {},
   "outputs": [],
   "source": [
    "myModel = LinearRegression() #Обозначаем, что наша модель - линейная регрессия\n",
    "myModel.fit(X_train,y_train) #обучаем модель на обучающих данных\n",
    "y_pred = myModel.predict(X_test)"
   ]
  },
  {
   "cell_type": "code",
   "execution_count": 12,
   "metadata": {},
   "outputs": [],
   "source": [
    "MSE = mean_squared_error(y_test, y_pred)\n",
    "RMSE = np.sqrt(MSE)\n",
    "result = RMSE"
   ]
  },
  {
   "cell_type": "code",
   "execution_count": 13,
   "metadata": {},
   "outputs": [],
   "source": [
    "# 4.6\n",
    "from sklearn.metrics import accuracy_score\n",
    "from sklearn.metrics import recall_score \n",
    "from sklearn.metrics import precision_score\n",
    "from sklearn.metrics import f1_score\n",
    "from sklearn.metrics import balanced_accuracy_score \n",
    "from sklearn.metrics import cohen_kappa_score"
   ]
  },
  {
   "cell_type": "code",
   "execution_count": 14,
   "metadata": {},
   "outputs": [
    {
     "data": {
      "text/plain": [
       "0.99"
      ]
     },
     "execution_count": 14,
     "metadata": {},
     "output_type": "execute_result"
    }
   ],
   "source": [
    "x = np.full(100, 2)\n",
    "y = np.full(100, 2)\n",
    "y[3] = 5\n",
    "accuracy_score(x,y)"
   ]
  },
  {
   "cell_type": "code",
   "execution_count": 15,
   "metadata": {},
   "outputs": [
    {
     "data": {
      "text/plain": [
       "100"
      ]
     },
     "execution_count": 15,
     "metadata": {},
     "output_type": "execute_result"
    }
   ],
   "source": [
    "len(x)"
   ]
  },
  {
   "cell_type": "code",
   "execution_count": 16,
   "metadata": {},
   "outputs": [
    {
     "data": {
      "text/plain": [
       "0.6666666666666665"
      ]
     },
     "execution_count": 16,
     "metadata": {},
     "output_type": "execute_result"
    }
   ],
   "source": [
    "y_true = [0, 0, 1, 1, 1, 1, 0, 1]\n",
    "y_pred = [0, 1, 0, 0, 1, 1, 0, 1]\n",
    "f1_score(y_true,y_pred)"
   ]
  },
  {
   "cell_type": "code",
   "execution_count": 17,
   "metadata": {},
   "outputs": [
    {
     "data": {
      "text/plain": [
       "0.4"
      ]
     },
     "execution_count": 17,
     "metadata": {},
     "output_type": "execute_result"
    }
   ],
   "source": [
    "y_true = [0, 0, 1, 0, 0, 1, 0]\n",
    "y_pred = [1, 1, 1, 0, 1, 1, 0]\n",
    "precision_score(y_true,y_pred)"
   ]
  },
  {
   "cell_type": "code",
   "execution_count": 18,
   "metadata": {},
   "outputs": [
    {
     "data": {
      "text/plain": [
       "1.0"
      ]
     },
     "execution_count": 18,
     "metadata": {},
     "output_type": "execute_result"
    }
   ],
   "source": [
    "recall_score(y_true,y_pred)"
   ]
  },
  {
   "cell_type": "code",
   "execution_count": 19,
   "metadata": {},
   "outputs": [],
   "source": [
    "voice = pd.read_csv('voiceDataSet.csv')"
   ]
  },
  {
   "cell_type": "code",
   "execution_count": 20,
   "metadata": {},
   "outputs": [
    {
     "name": "stdout",
     "output_type": "stream",
     "text": [
      "<class 'pandas.core.frame.DataFrame'>\n",
      "RangeIndex: 3168 entries, 0 to 3167\n",
      "Data columns (total 21 columns):\n",
      "meanfreq    3168 non-null float64\n",
      "sd          3168 non-null float64\n",
      "median      3168 non-null float64\n",
      "Q25         3168 non-null float64\n",
      "Q75         3168 non-null float64\n",
      "IQR         3168 non-null float64\n",
      "skew        3168 non-null float64\n",
      "kurt        3168 non-null float64\n",
      "sp.ent      3168 non-null float64\n",
      "sfm         3168 non-null float64\n",
      "mode        3168 non-null float64\n",
      "centroid    3168 non-null float64\n",
      "meanfun     3168 non-null float64\n",
      "minfun      3168 non-null float64\n",
      "maxfun      3168 non-null float64\n",
      "meandom     3168 non-null float64\n",
      "mindom      3168 non-null float64\n",
      "maxdom      3168 non-null float64\n",
      "dfrange     3168 non-null float64\n",
      "modindx     3168 non-null float64\n",
      "label       3168 non-null object\n",
      "dtypes: float64(20), object(1)\n",
      "memory usage: 519.9+ KB\n"
     ]
    }
   ],
   "source": [
    "voice.info()"
   ]
  },
  {
   "cell_type": "code",
   "execution_count": 21,
   "metadata": {},
   "outputs": [
    {
     "data": {
      "text/plain": [
       "female    1584\n",
       "male      1584\n",
       "Name: label, dtype: int64"
      ]
     },
     "execution_count": 21,
     "metadata": {},
     "output_type": "execute_result"
    }
   ],
   "source": [
    "voice.label.value_counts()"
   ]
  },
  {
   "cell_type": "code",
   "execution_count": 22,
   "metadata": {},
   "outputs": [],
   "source": [
    "#перевели текстовые признаки в числовые\n",
    "voice['label_int'] = voice['label'].apply(lambda x: 0 if x == 'male' else 1)"
   ]
  },
  {
   "cell_type": "code",
   "execution_count": 23,
   "metadata": {},
   "outputs": [],
   "source": [
    "voice.drop('label', axis = 1, inplace = True)"
   ]
  },
  {
   "cell_type": "code",
   "execution_count": 24,
   "metadata": {},
   "outputs": [],
   "source": [
    "X = voice.iloc[:,:-1].values\n",
    "y = voice['label_int'].values"
   ]
  },
  {
   "cell_type": "code",
   "execution_count": 25,
   "metadata": {},
   "outputs": [],
   "source": [
    "X_train, X_test, y_train, y_test = train_test_split(X, y, test_size= 0.3, random_state=42)"
   ]
  },
  {
   "cell_type": "code",
   "execution_count": 26,
   "metadata": {},
   "outputs": [],
   "source": [
    "from sklearn.preprocessing import StandardScaler \n",
    "scaler = StandardScaler()"
   ]
  },
  {
   "cell_type": "code",
   "execution_count": 27,
   "metadata": {},
   "outputs": [],
   "source": [
    "X_train = scaler.fit_transform(X_train)"
   ]
  },
  {
   "cell_type": "code",
   "execution_count": 28,
   "metadata": {},
   "outputs": [],
   "source": [
    "X_test = scaler.transform(X_test)"
   ]
  },
  {
   "cell_type": "code",
   "execution_count": 29,
   "metadata": {},
   "outputs": [],
   "source": [
    "from sklearn.linear_model import LogisticRegression\n",
    "model = LogisticRegression()"
   ]
  },
  {
   "cell_type": "code",
   "execution_count": 30,
   "metadata": {},
   "outputs": [],
   "source": [
    "model.fit(X_train,y_train) #обучаем модель на обучающих данных\n",
    "y_pred = model.predict(X_test)"
   ]
  },
  {
   "cell_type": "code",
   "execution_count": 31,
   "metadata": {},
   "outputs": [
    {
     "data": {
      "text/plain": [
       "0.9726603575184016"
      ]
     },
     "execution_count": 31,
     "metadata": {},
     "output_type": "execute_result"
    }
   ],
   "source": [
    "accuracy_score(y_test,y_pred)"
   ]
  },
  {
   "cell_type": "code",
   "execution_count": 32,
   "metadata": {},
   "outputs": [],
   "source": [
    "glass = pd.read_csv('glass.csv')"
   ]
  },
  {
   "cell_type": "code",
   "execution_count": 33,
   "metadata": {},
   "outputs": [
    {
     "name": "stdout",
     "output_type": "stream",
     "text": [
      "<class 'pandas.core.frame.DataFrame'>\n",
      "RangeIndex: 214 entries, 0 to 213\n",
      "Data columns (total 10 columns):\n",
      "RI      214 non-null float64\n",
      "Na      214 non-null float64\n",
      "Mg      214 non-null float64\n",
      "Al      214 non-null float64\n",
      "Si      214 non-null float64\n",
      "K       214 non-null float64\n",
      "Ca      214 non-null float64\n",
      "Ba      214 non-null float64\n",
      "Fe      214 non-null float64\n",
      "Type    214 non-null int64\n",
      "dtypes: float64(9), int64(1)\n",
      "memory usage: 16.8 KB\n"
     ]
    }
   ],
   "source": [
    "glass.info()"
   ]
  },
  {
   "cell_type": "code",
   "execution_count": 34,
   "metadata": {},
   "outputs": [
    {
     "data": {
      "text/plain": [
       "2    76\n",
       "1    70\n",
       "7    29\n",
       "3    17\n",
       "5    13\n",
       "6     9\n",
       "Name: Type, dtype: int64"
      ]
     },
     "execution_count": 34,
     "metadata": {},
     "output_type": "execute_result"
    }
   ],
   "source": [
    "glass['Type'].value_counts()"
   ]
  },
  {
   "cell_type": "code",
   "execution_count": 35,
   "metadata": {},
   "outputs": [],
   "source": [
    "X = glass.iloc[:,:-1].values\n",
    "y = glass['Type'].values"
   ]
  },
  {
   "cell_type": "code",
   "execution_count": null,
   "metadata": {},
   "outputs": [],
   "source": []
  },
  {
   "cell_type": "code",
   "execution_count": 36,
   "metadata": {},
   "outputs": [
    {
     "data": {
      "text/plain": [
       "0.3677740863787376"
      ]
     },
     "execution_count": 36,
     "metadata": {},
     "output_type": "execute_result"
    }
   ],
   "source": [
    "from sklearn.neighbors import KNeighborsClassifier\n",
    "from sklearn.model_selection import cross_val_score, KFold\n",
    "model=KNeighborsClassifier(n_neighbors=3)\n",
    "kf = KFold(n_splits=5)\n",
    "cross_val_score(model, X, y, cv=kf, scoring=\"accuracy\").mean()"
   ]
  },
  {
   "cell_type": "code",
   "execution_count": 37,
   "metadata": {},
   "outputs": [
    {
     "data": {
      "text/plain": [
       "0.53"
      ]
     },
     "execution_count": 37,
     "metadata": {},
     "output_type": "execute_result"
    }
   ],
   "source": [
    "kf = KFold(n_splits=10)\n",
    "round(cross_val_score(model, X, y, cv=kf, scoring=\"accuracy\").mean(),2)"
   ]
  },
  {
   "cell_type": "code",
   "execution_count": 38,
   "metadata": {},
   "outputs": [],
   "source": [
    "heart = pd.read_csv('heart_fin1.csv', sep = ';')"
   ]
  },
  {
   "cell_type": "code",
   "execution_count": 39,
   "metadata": {},
   "outputs": [
    {
     "data": {
      "text/html": [
       "<div>\n",
       "<style scoped>\n",
       "    .dataframe tbody tr th:only-of-type {\n",
       "        vertical-align: middle;\n",
       "    }\n",
       "\n",
       "    .dataframe tbody tr th {\n",
       "        vertical-align: top;\n",
       "    }\n",
       "\n",
       "    .dataframe thead th {\n",
       "        text-align: right;\n",
       "    }\n",
       "</style>\n",
       "<table border=\"1\" class=\"dataframe\">\n",
       "  <thead>\n",
       "    <tr style=\"text-align: right;\">\n",
       "      <th></th>\n",
       "      <th>age</th>\n",
       "      <th>sex</th>\n",
       "      <th>cp</th>\n",
       "      <th>trestbps</th>\n",
       "      <th>chol</th>\n",
       "      <th>restecg</th>\n",
       "      <th>thalach</th>\n",
       "      <th>exang</th>\n",
       "      <th>oldpeak</th>\n",
       "      <th>target</th>\n",
       "    </tr>\n",
       "  </thead>\n",
       "  <tbody>\n",
       "    <tr>\n",
       "      <td>0</td>\n",
       "      <td>63</td>\n",
       "      <td>1</td>\n",
       "      <td>3</td>\n",
       "      <td>145</td>\n",
       "      <td>233</td>\n",
       "      <td>0</td>\n",
       "      <td>150</td>\n",
       "      <td>0</td>\n",
       "      <td>2.3</td>\n",
       "      <td>1</td>\n",
       "    </tr>\n",
       "    <tr>\n",
       "      <td>1</td>\n",
       "      <td>37</td>\n",
       "      <td>1</td>\n",
       "      <td>2</td>\n",
       "      <td>130</td>\n",
       "      <td>250</td>\n",
       "      <td>1</td>\n",
       "      <td>187</td>\n",
       "      <td>0</td>\n",
       "      <td>3.5</td>\n",
       "      <td>1</td>\n",
       "    </tr>\n",
       "    <tr>\n",
       "      <td>2</td>\n",
       "      <td>41</td>\n",
       "      <td>0</td>\n",
       "      <td>1</td>\n",
       "      <td>130</td>\n",
       "      <td>204</td>\n",
       "      <td>0</td>\n",
       "      <td>172</td>\n",
       "      <td>0</td>\n",
       "      <td>1.4</td>\n",
       "      <td>1</td>\n",
       "    </tr>\n",
       "    <tr>\n",
       "      <td>3</td>\n",
       "      <td>56</td>\n",
       "      <td>1</td>\n",
       "      <td>1</td>\n",
       "      <td>120</td>\n",
       "      <td>236</td>\n",
       "      <td>1</td>\n",
       "      <td>178</td>\n",
       "      <td>0</td>\n",
       "      <td>0.8</td>\n",
       "      <td>1</td>\n",
       "    </tr>\n",
       "    <tr>\n",
       "      <td>4</td>\n",
       "      <td>57</td>\n",
       "      <td>0</td>\n",
       "      <td>0</td>\n",
       "      <td>120</td>\n",
       "      <td>354</td>\n",
       "      <td>1</td>\n",
       "      <td>163</td>\n",
       "      <td>1</td>\n",
       "      <td>0.6</td>\n",
       "      <td>1</td>\n",
       "    </tr>\n",
       "  </tbody>\n",
       "</table>\n",
       "</div>"
      ],
      "text/plain": [
       "   age  sex  cp  trestbps  chol  restecg  thalach  exang  oldpeak  target\n",
       "0   63    1   3       145   233        0      150      0      2.3       1\n",
       "1   37    1   2       130   250        1      187      0      3.5       1\n",
       "2   41    0   1       130   204        0      172      0      1.4       1\n",
       "3   56    1   1       120   236        1      178      0      0.8       1\n",
       "4   57    0   0       120   354        1      163      1      0.6       1"
      ]
     },
     "execution_count": 39,
     "metadata": {},
     "output_type": "execute_result"
    }
   ],
   "source": [
    "heart.head()"
   ]
  },
  {
   "cell_type": "code",
   "execution_count": 40,
   "metadata": {},
   "outputs": [
    {
     "data": {
      "text/plain": [
       "1    165\n",
       "0    138\n",
       "Name: target, dtype: int64"
      ]
     },
     "execution_count": 40,
     "metadata": {},
     "output_type": "execute_result"
    }
   ],
   "source": [
    "heart.target.value_counts()"
   ]
  },
  {
   "cell_type": "code",
   "execution_count": 41,
   "metadata": {},
   "outputs": [
    {
     "data": {
      "text/html": [
       "<div>\n",
       "<style scoped>\n",
       "    .dataframe tbody tr th:only-of-type {\n",
       "        vertical-align: middle;\n",
       "    }\n",
       "\n",
       "    .dataframe tbody tr th {\n",
       "        vertical-align: top;\n",
       "    }\n",
       "\n",
       "    .dataframe thead th {\n",
       "        text-align: right;\n",
       "    }\n",
       "</style>\n",
       "<table border=\"1\" class=\"dataframe\">\n",
       "  <thead>\n",
       "    <tr style=\"text-align: right;\">\n",
       "      <th></th>\n",
       "      <th>age</th>\n",
       "      <th>sex</th>\n",
       "      <th>cp</th>\n",
       "      <th>trestbps</th>\n",
       "      <th>chol</th>\n",
       "      <th>restecg</th>\n",
       "      <th>thalach</th>\n",
       "      <th>exang</th>\n",
       "      <th>oldpeak</th>\n",
       "      <th>target</th>\n",
       "    </tr>\n",
       "  </thead>\n",
       "  <tbody>\n",
       "    <tr>\n",
       "      <td>count</td>\n",
       "      <td>303.000000</td>\n",
       "      <td>303.000000</td>\n",
       "      <td>303.000000</td>\n",
       "      <td>303.000000</td>\n",
       "      <td>303.000000</td>\n",
       "      <td>303.000000</td>\n",
       "      <td>303.000000</td>\n",
       "      <td>303.000000</td>\n",
       "      <td>303.000000</td>\n",
       "      <td>303.000000</td>\n",
       "    </tr>\n",
       "    <tr>\n",
       "      <td>mean</td>\n",
       "      <td>54.366337</td>\n",
       "      <td>0.683168</td>\n",
       "      <td>0.966997</td>\n",
       "      <td>131.623762</td>\n",
       "      <td>246.264026</td>\n",
       "      <td>0.528053</td>\n",
       "      <td>149.646865</td>\n",
       "      <td>0.326733</td>\n",
       "      <td>1.039604</td>\n",
       "      <td>0.544554</td>\n",
       "    </tr>\n",
       "    <tr>\n",
       "      <td>std</td>\n",
       "      <td>9.082101</td>\n",
       "      <td>0.466011</td>\n",
       "      <td>1.032052</td>\n",
       "      <td>17.538143</td>\n",
       "      <td>51.830751</td>\n",
       "      <td>0.525860</td>\n",
       "      <td>22.905161</td>\n",
       "      <td>0.469794</td>\n",
       "      <td>1.161075</td>\n",
       "      <td>0.498835</td>\n",
       "    </tr>\n",
       "    <tr>\n",
       "      <td>min</td>\n",
       "      <td>29.000000</td>\n",
       "      <td>0.000000</td>\n",
       "      <td>0.000000</td>\n",
       "      <td>94.000000</td>\n",
       "      <td>126.000000</td>\n",
       "      <td>0.000000</td>\n",
       "      <td>71.000000</td>\n",
       "      <td>0.000000</td>\n",
       "      <td>0.000000</td>\n",
       "      <td>0.000000</td>\n",
       "    </tr>\n",
       "    <tr>\n",
       "      <td>25%</td>\n",
       "      <td>47.500000</td>\n",
       "      <td>0.000000</td>\n",
       "      <td>0.000000</td>\n",
       "      <td>120.000000</td>\n",
       "      <td>211.000000</td>\n",
       "      <td>0.000000</td>\n",
       "      <td>133.500000</td>\n",
       "      <td>0.000000</td>\n",
       "      <td>0.000000</td>\n",
       "      <td>0.000000</td>\n",
       "    </tr>\n",
       "    <tr>\n",
       "      <td>50%</td>\n",
       "      <td>55.000000</td>\n",
       "      <td>1.000000</td>\n",
       "      <td>1.000000</td>\n",
       "      <td>130.000000</td>\n",
       "      <td>240.000000</td>\n",
       "      <td>1.000000</td>\n",
       "      <td>153.000000</td>\n",
       "      <td>0.000000</td>\n",
       "      <td>0.800000</td>\n",
       "      <td>1.000000</td>\n",
       "    </tr>\n",
       "    <tr>\n",
       "      <td>75%</td>\n",
       "      <td>61.000000</td>\n",
       "      <td>1.000000</td>\n",
       "      <td>2.000000</td>\n",
       "      <td>140.000000</td>\n",
       "      <td>274.500000</td>\n",
       "      <td>1.000000</td>\n",
       "      <td>166.000000</td>\n",
       "      <td>1.000000</td>\n",
       "      <td>1.600000</td>\n",
       "      <td>1.000000</td>\n",
       "    </tr>\n",
       "    <tr>\n",
       "      <td>max</td>\n",
       "      <td>77.000000</td>\n",
       "      <td>1.000000</td>\n",
       "      <td>3.000000</td>\n",
       "      <td>200.000000</td>\n",
       "      <td>564.000000</td>\n",
       "      <td>2.000000</td>\n",
       "      <td>202.000000</td>\n",
       "      <td>1.000000</td>\n",
       "      <td>6.200000</td>\n",
       "      <td>1.000000</td>\n",
       "    </tr>\n",
       "  </tbody>\n",
       "</table>\n",
       "</div>"
      ],
      "text/plain": [
       "              age         sex          cp    trestbps        chol     restecg  \\\n",
       "count  303.000000  303.000000  303.000000  303.000000  303.000000  303.000000   \n",
       "mean    54.366337    0.683168    0.966997  131.623762  246.264026    0.528053   \n",
       "std      9.082101    0.466011    1.032052   17.538143   51.830751    0.525860   \n",
       "min     29.000000    0.000000    0.000000   94.000000  126.000000    0.000000   \n",
       "25%     47.500000    0.000000    0.000000  120.000000  211.000000    0.000000   \n",
       "50%     55.000000    1.000000    1.000000  130.000000  240.000000    1.000000   \n",
       "75%     61.000000    1.000000    2.000000  140.000000  274.500000    1.000000   \n",
       "max     77.000000    1.000000    3.000000  200.000000  564.000000    2.000000   \n",
       "\n",
       "          thalach       exang     oldpeak      target  \n",
       "count  303.000000  303.000000  303.000000  303.000000  \n",
       "mean   149.646865    0.326733    1.039604    0.544554  \n",
       "std     22.905161    0.469794    1.161075    0.498835  \n",
       "min     71.000000    0.000000    0.000000    0.000000  \n",
       "25%    133.500000    0.000000    0.000000    0.000000  \n",
       "50%    153.000000    0.000000    0.800000    1.000000  \n",
       "75%    166.000000    1.000000    1.600000    1.000000  \n",
       "max    202.000000    1.000000    6.200000    1.000000  "
      ]
     },
     "execution_count": 41,
     "metadata": {},
     "output_type": "execute_result"
    }
   ],
   "source": [
    "heart.describe()"
   ]
  },
  {
   "cell_type": "code",
   "execution_count": 42,
   "metadata": {},
   "outputs": [
    {
     "data": {
      "text/plain": [
       "Index(['age', 'sex', 'cp', 'trestbps', 'chol', 'restecg', 'thalach', 'exang',\n",
       "       'oldpeak', 'target'],\n",
       "      dtype='object')"
      ]
     },
     "execution_count": 42,
     "metadata": {},
     "output_type": "execute_result"
    }
   ],
   "source": [
    "heart.columns"
   ]
  },
  {
   "cell_type": "code",
   "execution_count": 43,
   "metadata": {},
   "outputs": [],
   "source": [
    "for i in heart.columns:\n",
    "    IQR = heart[i].quantile(0.75) - heart[i].quantile(0.25)\n",
    "    heart[i] = heart[i][heart[i].between(heart[i].quantile(0.25) - 1.5*IQR, heart[i].quantile(0.75) + 1.5*IQR )]"
   ]
  },
  {
   "cell_type": "code",
   "execution_count": 44,
   "metadata": {},
   "outputs": [
    {
     "data": {
      "text/html": [
       "<div>\n",
       "<style scoped>\n",
       "    .dataframe tbody tr th:only-of-type {\n",
       "        vertical-align: middle;\n",
       "    }\n",
       "\n",
       "    .dataframe tbody tr th {\n",
       "        vertical-align: top;\n",
       "    }\n",
       "\n",
       "    .dataframe thead th {\n",
       "        text-align: right;\n",
       "    }\n",
       "</style>\n",
       "<table border=\"1\" class=\"dataframe\">\n",
       "  <thead>\n",
       "    <tr style=\"text-align: right;\">\n",
       "      <th></th>\n",
       "      <th>age</th>\n",
       "      <th>sex</th>\n",
       "      <th>cp</th>\n",
       "      <th>trestbps</th>\n",
       "      <th>chol</th>\n",
       "      <th>restecg</th>\n",
       "      <th>thalach</th>\n",
       "      <th>exang</th>\n",
       "      <th>oldpeak</th>\n",
       "      <th>target</th>\n",
       "    </tr>\n",
       "  </thead>\n",
       "  <tbody>\n",
       "    <tr>\n",
       "      <td>count</td>\n",
       "      <td>303.000000</td>\n",
       "      <td>303.000000</td>\n",
       "      <td>303.000000</td>\n",
       "      <td>294.000000</td>\n",
       "      <td>298.000000</td>\n",
       "      <td>303.000000</td>\n",
       "      <td>302.000000</td>\n",
       "      <td>303.000000</td>\n",
       "      <td>298.000000</td>\n",
       "      <td>303.000000</td>\n",
       "    </tr>\n",
       "    <tr>\n",
       "      <td>mean</td>\n",
       "      <td>54.366337</td>\n",
       "      <td>0.683168</td>\n",
       "      <td>0.966997</td>\n",
       "      <td>130.095238</td>\n",
       "      <td>243.043624</td>\n",
       "      <td>0.528053</td>\n",
       "      <td>149.907285</td>\n",
       "      <td>0.326733</td>\n",
       "      <td>0.974497</td>\n",
       "      <td>0.544554</td>\n",
       "    </tr>\n",
       "    <tr>\n",
       "      <td>std</td>\n",
       "      <td>9.082101</td>\n",
       "      <td>0.466011</td>\n",
       "      <td>1.032052</td>\n",
       "      <td>15.360884</td>\n",
       "      <td>45.094679</td>\n",
       "      <td>0.525860</td>\n",
       "      <td>22.489378</td>\n",
       "      <td>0.469794</td>\n",
       "      <td>1.049557</td>\n",
       "      <td>0.498835</td>\n",
       "    </tr>\n",
       "    <tr>\n",
       "      <td>min</td>\n",
       "      <td>29.000000</td>\n",
       "      <td>0.000000</td>\n",
       "      <td>0.000000</td>\n",
       "      <td>94.000000</td>\n",
       "      <td>126.000000</td>\n",
       "      <td>0.000000</td>\n",
       "      <td>88.000000</td>\n",
       "      <td>0.000000</td>\n",
       "      <td>0.000000</td>\n",
       "      <td>0.000000</td>\n",
       "    </tr>\n",
       "    <tr>\n",
       "      <td>25%</td>\n",
       "      <td>47.500000</td>\n",
       "      <td>0.000000</td>\n",
       "      <td>0.000000</td>\n",
       "      <td>120.000000</td>\n",
       "      <td>211.000000</td>\n",
       "      <td>0.000000</td>\n",
       "      <td>134.500000</td>\n",
       "      <td>0.000000</td>\n",
       "      <td>0.000000</td>\n",
       "      <td>0.000000</td>\n",
       "    </tr>\n",
       "    <tr>\n",
       "      <td>50%</td>\n",
       "      <td>55.000000</td>\n",
       "      <td>1.000000</td>\n",
       "      <td>1.000000</td>\n",
       "      <td>130.000000</td>\n",
       "      <td>240.000000</td>\n",
       "      <td>1.000000</td>\n",
       "      <td>153.000000</td>\n",
       "      <td>0.000000</td>\n",
       "      <td>0.650000</td>\n",
       "      <td>1.000000</td>\n",
       "    </tr>\n",
       "    <tr>\n",
       "      <td>75%</td>\n",
       "      <td>61.000000</td>\n",
       "      <td>1.000000</td>\n",
       "      <td>2.000000</td>\n",
       "      <td>140.000000</td>\n",
       "      <td>273.000000</td>\n",
       "      <td>1.000000</td>\n",
       "      <td>166.000000</td>\n",
       "      <td>1.000000</td>\n",
       "      <td>1.600000</td>\n",
       "      <td>1.000000</td>\n",
       "    </tr>\n",
       "    <tr>\n",
       "      <td>max</td>\n",
       "      <td>77.000000</td>\n",
       "      <td>1.000000</td>\n",
       "      <td>3.000000</td>\n",
       "      <td>170.000000</td>\n",
       "      <td>360.000000</td>\n",
       "      <td>2.000000</td>\n",
       "      <td>202.000000</td>\n",
       "      <td>1.000000</td>\n",
       "      <td>4.000000</td>\n",
       "      <td>1.000000</td>\n",
       "    </tr>\n",
       "  </tbody>\n",
       "</table>\n",
       "</div>"
      ],
      "text/plain": [
       "              age         sex          cp    trestbps        chol     restecg  \\\n",
       "count  303.000000  303.000000  303.000000  294.000000  298.000000  303.000000   \n",
       "mean    54.366337    0.683168    0.966997  130.095238  243.043624    0.528053   \n",
       "std      9.082101    0.466011    1.032052   15.360884   45.094679    0.525860   \n",
       "min     29.000000    0.000000    0.000000   94.000000  126.000000    0.000000   \n",
       "25%     47.500000    0.000000    0.000000  120.000000  211.000000    0.000000   \n",
       "50%     55.000000    1.000000    1.000000  130.000000  240.000000    1.000000   \n",
       "75%     61.000000    1.000000    2.000000  140.000000  273.000000    1.000000   \n",
       "max     77.000000    1.000000    3.000000  170.000000  360.000000    2.000000   \n",
       "\n",
       "          thalach       exang     oldpeak      target  \n",
       "count  302.000000  303.000000  298.000000  303.000000  \n",
       "mean   149.907285    0.326733    0.974497    0.544554  \n",
       "std     22.489378    0.469794    1.049557    0.498835  \n",
       "min     88.000000    0.000000    0.000000    0.000000  \n",
       "25%    134.500000    0.000000    0.000000    0.000000  \n",
       "50%    153.000000    0.000000    0.650000    1.000000  \n",
       "75%    166.000000    1.000000    1.600000    1.000000  \n",
       "max    202.000000    1.000000    4.000000    1.000000  "
      ]
     },
     "execution_count": 44,
     "metadata": {},
     "output_type": "execute_result"
    }
   ],
   "source": [
    "heart.describe()"
   ]
  },
  {
   "cell_type": "code",
   "execution_count": 45,
   "metadata": {},
   "outputs": [
    {
     "data": {
      "text/plain": [
       "age         0\n",
       "sex         0\n",
       "cp          0\n",
       "trestbps    9\n",
       "chol        5\n",
       "restecg     0\n",
       "thalach     1\n",
       "exang       0\n",
       "oldpeak     5\n",
       "target      0\n",
       "dtype: int64"
      ]
     },
     "execution_count": 45,
     "metadata": {},
     "output_type": "execute_result"
    }
   ],
   "source": [
    "heart.isna().sum()"
   ]
  },
  {
   "cell_type": "code",
   "execution_count": 46,
   "metadata": {},
   "outputs": [],
   "source": [
    "heart.dropna(axis = 0, inplace = True)"
   ]
  },
  {
   "cell_type": "code",
   "execution_count": 47,
   "metadata": {},
   "outputs": [
    {
     "name": "stdout",
     "output_type": "stream",
     "text": [
      "<class 'pandas.core.frame.DataFrame'>\n",
      "Int64Index: 284 entries, 0 to 302\n",
      "Data columns (total 10 columns):\n",
      "age         284 non-null int64\n",
      "sex         284 non-null int64\n",
      "cp          284 non-null int64\n",
      "trestbps    284 non-null float64\n",
      "chol        284 non-null float64\n",
      "restecg     284 non-null int64\n",
      "thalach     284 non-null float64\n",
      "exang       284 non-null int64\n",
      "oldpeak     284 non-null float64\n",
      "target      284 non-null int64\n",
      "dtypes: float64(4), int64(6)\n",
      "memory usage: 24.4 KB\n"
     ]
    }
   ],
   "source": [
    "heart.info()"
   ]
  },
  {
   "cell_type": "code",
   "execution_count": 48,
   "metadata": {},
   "outputs": [],
   "source": [
    "X = heart.drop('target', axis = 1).values\n",
    "y = heart['target'].values"
   ]
  },
  {
   "cell_type": "code",
   "execution_count": 49,
   "metadata": {},
   "outputs": [
    {
     "data": {
      "text/plain": [
       "(284, 9)"
      ]
     },
     "execution_count": 49,
     "metadata": {},
     "output_type": "execute_result"
    }
   ],
   "source": [
    "X.shape"
   ]
  },
  {
   "cell_type": "code",
   "execution_count": 50,
   "metadata": {},
   "outputs": [
    {
     "data": {
      "text/plain": [
       "(284,)"
      ]
     },
     "execution_count": 50,
     "metadata": {},
     "output_type": "execute_result"
    }
   ],
   "source": [
    "y.shape"
   ]
  },
  {
   "cell_type": "code",
   "execution_count": 51,
   "metadata": {},
   "outputs": [],
   "source": [
    "X_train, X_test, y_train, y_test = train_test_split(X,y,test_size=0.15, random_state=5)"
   ]
  },
  {
   "cell_type": "code",
   "execution_count": 52,
   "metadata": {},
   "outputs": [],
   "source": [
    "reg = LogisticRegression(max_iter=1000)\n",
    "reg.fit(X_train, y_train)\n",
    "y_pred = reg.predict(X_test)"
   ]
  },
  {
   "cell_type": "code",
   "execution_count": 53,
   "metadata": {},
   "outputs": [
    {
     "data": {
      "text/plain": [
       "0.7651515151515152"
      ]
     },
     "execution_count": 53,
     "metadata": {},
     "output_type": "execute_result"
    }
   ],
   "source": [
    "from sklearn.metrics import roc_auc_score\n",
    "roc_auc_score(y_test,y_pred)"
   ]
  },
  {
   "cell_type": "code",
   "execution_count": 54,
   "metadata": {},
   "outputs": [],
   "source": [
    "model=KNeighborsClassifier(n_neighbors=3)\n",
    "model.fit(X_train, y_train)\n",
    "y_pred = model.predict(X_test)"
   ]
  },
  {
   "cell_type": "code",
   "execution_count": 55,
   "metadata": {},
   "outputs": [
    {
     "data": {
      "text/plain": [
       "0.6233766233766235"
      ]
     },
     "execution_count": 55,
     "metadata": {},
     "output_type": "execute_result"
    }
   ],
   "source": [
    "roc_auc_score(y_test,y_pred)"
   ]
  },
  {
   "cell_type": "code",
   "execution_count": 56,
   "metadata": {},
   "outputs": [],
   "source": [
    "from sklearn.tree import DecisionTreeClassifier\n",
    "from sklearn.model_selection import train_test_split\n",
    "from sklearn.metrics import f1_score\n",
    "vis_data = pd.read_csv(\"./train.csv\", encoding = 'ISO-8859-1', low_memory = False)"
   ]
  },
  {
   "cell_type": "code",
   "execution_count": 57,
   "metadata": {},
   "outputs": [
    {
     "data": {
      "text/plain": [
       "Index(['ticket_id', 'agency_name', 'inspector_name', 'violator_name',\n",
       "       'violation_street_number', 'violation_street_name',\n",
       "       'violation_zip_code', 'mailing_address_str_number',\n",
       "       'mailing_address_str_name', 'city', 'state', 'zip_code',\n",
       "       'non_us_str_code', 'country', 'ticket_issued_date', 'hearing_date',\n",
       "       'violation_code', 'violation_description', 'disposition', 'fine_amount',\n",
       "       'admin_fee', 'state_fee', 'late_fee', 'discount_amount',\n",
       "       'clean_up_cost', 'judgment_amount', 'payment_amount', 'balance_due',\n",
       "       'payment_date', 'payment_status', 'collection_status',\n",
       "       'grafitti_status', 'compliance_detail', 'compliance'],\n",
       "      dtype='object')"
      ]
     },
     "execution_count": 57,
     "metadata": {},
     "output_type": "execute_result"
    }
   ],
   "source": [
    "vis_data.columns"
   ]
  },
  {
   "cell_type": "code",
   "execution_count": 58,
   "metadata": {},
   "outputs": [],
   "source": [
    "vis_data_new = vis_data[['fine_amount', 'state_fee', 'late_fee', 'discount_amount', 'balance_due', 'compliance']]"
   ]
  },
  {
   "cell_type": "code",
   "execution_count": 59,
   "metadata": {},
   "outputs": [
    {
     "data": {
      "text/plain": [
       "fine_amount            1\n",
       "state_fee              0\n",
       "late_fee               0\n",
       "discount_amount        0\n",
       "balance_due            0\n",
       "compliance         90426\n",
       "dtype: int64"
      ]
     },
     "execution_count": 59,
     "metadata": {},
     "output_type": "execute_result"
    }
   ],
   "source": [
    "vis_data_new.isna().sum()"
   ]
  },
  {
   "cell_type": "code",
   "execution_count": 60,
   "metadata": {},
   "outputs": [
    {
     "name": "stdout",
     "output_type": "stream",
     "text": [
      "<class 'pandas.core.frame.DataFrame'>\n",
      "RangeIndex: 250306 entries, 0 to 250305\n",
      "Data columns (total 6 columns):\n",
      "fine_amount        250305 non-null float64\n",
      "state_fee          250306 non-null float64\n",
      "late_fee           250306 non-null float64\n",
      "discount_amount    250306 non-null float64\n",
      "balance_due        250306 non-null float64\n",
      "compliance         159880 non-null float64\n",
      "dtypes: float64(6)\n",
      "memory usage: 11.5 MB\n"
     ]
    }
   ],
   "source": [
    "vis_data_new.info()"
   ]
  },
  {
   "cell_type": "code",
   "execution_count": 61,
   "metadata": {},
   "outputs": [],
   "source": [
    "vis_data_new = vis_data_new.dropna(axis = 0)"
   ]
  },
  {
   "cell_type": "code",
   "execution_count": 62,
   "metadata": {},
   "outputs": [
    {
     "name": "stdout",
     "output_type": "stream",
     "text": [
      "<class 'pandas.core.frame.DataFrame'>\n",
      "Int64Index: 159880 entries, 0 to 250293\n",
      "Data columns (total 6 columns):\n",
      "fine_amount        159880 non-null float64\n",
      "state_fee          159880 non-null float64\n",
      "late_fee           159880 non-null float64\n",
      "discount_amount    159880 non-null float64\n",
      "balance_due        159880 non-null float64\n",
      "compliance         159880 non-null float64\n",
      "dtypes: float64(6)\n",
      "memory usage: 8.5 MB\n"
     ]
    }
   ],
   "source": [
    "vis_data_new.info()"
   ]
  },
  {
   "cell_type": "code",
   "execution_count": 63,
   "metadata": {},
   "outputs": [],
   "source": [
    "X = vis_data_new.drop('compliance', axis = 1).values\n",
    "y = vis_data_new['compliance'].values"
   ]
  },
  {
   "cell_type": "code",
   "execution_count": 64,
   "metadata": {},
   "outputs": [],
   "source": [
    "X_train, X_test, y_train, y_test = train_test_split(X,y,test_size=0.3, shuffle = False)"
   ]
  },
  {
   "cell_type": "code",
   "execution_count": 65,
   "metadata": {},
   "outputs": [],
   "source": [
    "model = DecisionTreeClassifier(random_state=23)"
   ]
  },
  {
   "cell_type": "code",
   "execution_count": 66,
   "metadata": {},
   "outputs": [
    {
     "data": {
      "text/plain": [
       "DecisionTreeClassifier(random_state=23)"
      ]
     },
     "execution_count": 66,
     "metadata": {},
     "output_type": "execute_result"
    }
   ],
   "source": [
    "model.fit(X_train, y_train)"
   ]
  },
  {
   "cell_type": "code",
   "execution_count": 67,
   "metadata": {},
   "outputs": [],
   "source": [
    "y_train_pred = model.predict(X_train)\n",
    "f1_train = f1_score(y_train,y_train_pred)"
   ]
  },
  {
   "cell_type": "code",
   "execution_count": 68,
   "metadata": {},
   "outputs": [],
   "source": [
    "y_pred = model.predict(X_test)\n",
    "f1_test = f1_score(y_test,y_pred)"
   ]
  },
  {
   "cell_type": "code",
   "execution_count": 69,
   "metadata": {},
   "outputs": [
    {
     "data": {
      "text/plain": [
       "0.08055341409051786"
      ]
     },
     "execution_count": 69,
     "metadata": {},
     "output_type": "execute_result"
    }
   ],
   "source": [
    "result = f1_train - f1_test\n",
    "result"
   ]
  },
  {
   "cell_type": "code",
   "execution_count": 70,
   "metadata": {},
   "outputs": [
    {
     "name": "stdout",
     "output_type": "stream",
     "text": [
      "0.6607803184665308\n",
      "0.580226904376013\n"
     ]
    }
   ],
   "source": [
    "print(f1_train)\n",
    "print(f1_test)"
   ]
  },
  {
   "cell_type": "code",
   "execution_count": 71,
   "metadata": {},
   "outputs": [],
   "source": [
    "from sklearn.tree import DecisionTreeClassifier\n",
    "from sklearn.model_selection import train_test_split, StratifiedShuffleSplit\n",
    "from sklearn.metrics import f1_score, accuracy_score\n",
    "import pandas as pd\n",
    "vis_data = pd.read_csv(\"./train.csv\", encoding = 'ISO-8859-1', low_memory = False)"
   ]
  },
  {
   "cell_type": "code",
   "execution_count": 72,
   "metadata": {},
   "outputs": [],
   "source": [
    "vis_data_new = vis_data[['fine_amount', 'state_fee', 'late_fee', 'discount_amount', 'balance_due', 'compliance']]\n",
    "vis_data_new = vis_data_new.dropna(axis = 0)\n",
    "X = vis_data_new.drop('compliance', axis = 1).values\n",
    "y = vis_data_new['compliance'].values\n",
    "X_train, X_test, y_train, y_test = train_test_split(X,y,test_size=0.3, shuffle = False)\n",
    "model = DecisionTreeClassifier(random_state=23)\n",
    "model.fit(X_train, y_train)\n",
    "y_train_pred = model.predict(X_train)\n",
    "f1_train = f1_score(y_train,y_train_pred)\n",
    "y_pred = model.predict(X_test)\n",
    "f1_test = f1_score(y_test,y_pred)"
   ]
  },
  {
   "cell_type": "code",
   "execution_count": 74,
   "metadata": {},
   "outputs": [
    {
     "data": {
      "text/plain": [
       "<matplotlib.axes._subplots.AxesSubplot at 0x19483f4e548>"
      ]
     },
     "execution_count": 74,
     "metadata": {},
     "output_type": "execute_result"
    },
    {
     "data": {
      "image/png": "[encoded data removed]",
      "text/plain": [
       "<Figure size 432x288 with 1 Axes>"
      ]
     },
     "metadata": {
      "needs_background": "light"
     },
     "output_type": "display_data"
    }
   ],
   "source": [
    "import seaborn as sns\n",
    "sns.countplot(vis_data_new['compliance'])"
   ]
  },
  {
   "cell_type": "code",
   "execution_count": 75,
   "metadata": {},
   "outputs": [
    {
     "data": {
      "text/plain": [
       "0.0    148283\n",
       "1.0     11597\n",
       "Name: compliance, dtype: int64"
      ]
     },
     "execution_count": 75,
     "metadata": {},
     "output_type": "execute_result"
    }
   ],
   "source": [
    "vis_data_new['compliance'].value_counts()"
   ]
  },
  {
   "cell_type": "code",
   "execution_count": 81,
   "metadata": {},
   "outputs": [],
   "source": [
    "vis_data_1 = vis_data_new[vis_data_new['compliance'] == 1]\n",
    "vis_data_0 = vis_data_new[vis_data_new['compliance'] == 0].iloc[:11597,:]"
   ]
  },
  {
   "cell_type": "code",
   "execution_count": 90,
   "metadata": {},
   "outputs": [],
   "source": [
    "vis_data_bal = pd.concat([vis_data_0, vis_data_1])"
   ]
  },
  {
   "cell_type": "code",
   "execution_count": 92,
   "metadata": {},
   "outputs": [
    {
     "name": "stdout",
     "output_type": "stream",
     "text": [
      "<class 'pandas.core.frame.DataFrame'>\n",
      "Int64Index: 23194 entries, 0 to 250290\n",
      "Data columns (total 6 columns):\n",
      "fine_amount        23194 non-null float64\n",
      "state_fee          23194 non-null float64\n",
      "late_fee           23194 non-null float64\n",
      "discount_amount    23194 non-null float64\n",
      "balance_due        23194 non-null float64\n",
      "compliance         23194 non-null float64\n",
      "dtypes: float64(6)\n",
      "memory usage: 1.2 MB\n"
     ]
    }
   ],
   "source": [
    "vis_data_bal.info()"
   ]
  },
  {
   "cell_type": "code",
   "execution_count": 93,
   "metadata": {},
   "outputs": [],
   "source": [
    "X = vis_data_bal.drop('compliance', axis = 1).values\n",
    "y = vis_data_bal['compliance'].values\n",
    "X_train, X_test, y_train, y_test = train_test_split(X,y,test_size=0.3, shuffle = False)\n",
    "model = DecisionTreeClassifier(random_state=23)\n",
    "model.fit(X_train, y_train)\n",
    "y_train_pred = model.predict(X_train)\n",
    "f1_train_bal = f1_score(y_train,y_train_pred)\n",
    "y_pred = model.predict(X_test)\n",
    "f1_test_bal = f1_score(y_test,y_pred)"
   ]
  },
  {
   "cell_type": "code",
   "execution_count": 94,
   "metadata": {},
   "outputs": [
    {
     "data": {
      "text/plain": [
       "0.18272749967696011"
      ]
     },
     "execution_count": 94,
     "metadata": {},
     "output_type": "execute_result"
    }
   ],
   "source": [
    "result = f1_test_bal - f1_test\n",
    "result"
   ]
  },
  {
   "cell_type": "code",
   "execution_count": null,
   "metadata": {},
   "outputs": [],
   "source": [
    "from sklearn.tree import DecisionTreeClassifier\n",
    "from sklearn.model_selection import train_test_split, StratifiedShuffleSplit\n",
    "from sklearn.metrics import f1_score, accuracy_score\n",
    "import pandas as pd\n",
    "vis_data = pd.read_csv(\"./train.csv\", encoding = 'ISO-8859-1', low_memory = False)\n",
    "# Напишите ваш код ниже\n",
    "vis_data_new = vis_data[['fine_amount', 'state_fee', 'late_fee', 'discount_amount', 'balance_due', 'compliance']]\n",
    "vis_data_new = vis_data_new.dropna(axis = 0)\n",
    "X = vis_data_new.drop('compliance', axis = 1).values\n",
    "y = vis_data_new['compliance'].values\n",
    "X_train, X_test, y_train, y_test = train_test_split(X,y,test_size=0.3, shuffle = False)\n",
    "model = DecisionTreeClassifier(random_state=23)\n",
    "model.fit(X_train, y_train)\n",
    "y_train_pred = model.predict(X_train)\n",
    "f1_train = f1_score(y_train,y_train_pred)\n",
    "y_pred = model.predict(X_test)\n",
    "f1_test = f1_score(y_test,y_pred)\n",
    "vis_data_1 = vis_data_new[vis_data_new['compliance'] == 1]\n",
    "vis_data_0 = vis_data_new[vis_data_new['compliance'] == 0].iloc[:11597,:]\n",
    "vis_data_bal = pd.concat([vis_data_0, vis_data_1])\n",
    "X = vis_data_bal.drop('compliance', axis = 1).values\n",
    "y = vis_data_bal['compliance'].values\n",
    "X_train, X_test, y_train, y_test = train_test_split(X,y,test_size=0.3, shuffle = False)\n",
    "model = DecisionTreeClassifier(random_state=23)\n",
    "model.fit(X_train, y_train)\n",
    "y_train_pred = model.predict(X_train)\n",
    "f1_train_bal = f1_score(y_train,y_train_pred)\n",
    "y_pred = model.predict(X_test)\n",
    "f1_test_bal = f1_score(y_test,y_pred)\n",
    "result = f1_test_bal - f1_test"
   ]
  }
 ],
 "metadata": {
  "kernelspec": {
   "display_name": "Python 3",
   "language": "python",
   "name": "python3"
  },
  "language_info": {
   "codemirror_mode": {
    "name": "ipython",
    "version": 3
   },
   "file_extension": ".py",
   "mimetype": "text/x-python",
   "name": "python",
   "nbconvert_exporter": "python",
   "pygments_lexer": "ipython3",
   "version": "3.8.5"
  }
 },
 "nbformat": 4,
 "nbformat_minor": 2
}
