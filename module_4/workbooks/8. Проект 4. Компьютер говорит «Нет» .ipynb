{
 "cells": [
  {
   "cell_type": "markdown",
   "metadata": {},
   "source": [
    "# Юнит 5. Основные алгоритмы машинного обучения. Часть I  Проект 4. Компьютер говорит «Нет»  \n",
    "# 1. О чём этот модуль?\n",
    "\n",
    "В этом модуле вас ждёт путь от стажёра отдела аналитики регионального банка до… Будем считать, что почти до начальника отдела! \n",
    "\n",
    "### Что вы успеете сделать по дороге?\n",
    "\n",
    "- Напишете скоринговую модель предсказания дефолта клиентов банка.\n",
    "- Поучаствуете в командном хакатоне (на этот раз мы приготовили для вас неожиданный формат).\n",
    "- По доброй традиции обогатите своё портфолио!\n",
    "\n",
    "Конечно, вашими самыми верными помощниками остаются Google, StackOverflow и менторы в Slack. Вопросы по проекту можно задавать в канале #0-real_ds_банковский_скоринг.\n",
    "\n",
    "☝ Также напомним, что необходимую информацию вы можете найти в материалах специализации. Особенное внимание рекомендуем уделить модулю:\n",
    "\n",
    "→ Machine Learning. Классификация\n",
    "\n",
    "АВТОР МОДУЛЯ - АННА НОХРИНА\n",
    "\n",
    "разработчик, CodeRocket\n",
    "\n",
    "...Мы прошли путь от микрофинансовой организации, когда решение о выдаче кредита принималось вручную. Потом мы долго пользовались внешними системами (например, от БКИ), заказывали скоринговые модели странным математикам-одиночкам. Всё это стоило недешево, не позволяло быстро вносить изменения, и мы решили построить свою систему. И у нас получилось!\n",
    "\n",
    "Теперь мы оказываем услуги по скорингу внешним клиентам, недавно сотрудничали с канадским банком. Когда проходишь весь этот путь и наконец получаешь продукт высокого качества, становишься побитым жизнью и... умным.\n",
    "\n",
    "В этом проекте вы почувствуете, каково быть начинающем FinTech-специалистом. Надеемся, что ваш путь к успеху окажется более прямолинейным. Удачи в решении проекта!"
   ]
  },
  {
   "cell_type": "markdown",
   "metadata": {},
   "source": [
    "# 2. Где я и кто я?\n",
    "ГДЕ-ТО НА ЮГЕ РОССИИ…\n",
    "Вы работаете стажёром в отделении регионального банка. Лето, как обычно, выдалось жарким, ничто не нарушает сонной работы отдела аналитики, кроме комаров да пчел. Дни медленно сменяют друг друга, последний месяц стажировки постепенно подходит к концу. А вы всё так же делаете запросы к базам данных и строите отчёты. \n",
    "\n",
    "Хотя вот из интересного: пару недель назад в правлении банка произошли масштабные перестановки и в коридорах стали появляться новые лица. В честь приезда нового директора по развитию вас даже подрядили пересаживать цветы! Тут-то вы и поймали себя на мысли, что несколько иначе представляли себе работу Data Scientist…\n",
    "\n",
    "И вот сегодня, когда вы уже были на пороге отчаяния, ваш начальник (все называеют его просто Колей) наконец пришёл к вам с долгожданной новостью:\n",
    "\n",
    "**Avatar**Слушай, вот что ты тут все графики да циферки перебираешь. Ты про машинное обучение знаешь? Со следующего месяца внедряем ИИ, будем по-умному работать! Начнём с модели банковского скоринга.\n",
    "\n",
    "**Мои мысли…** Отлично! Наконец смогу заняться настоящей работой!\n",
    "\n",
    "**Avatar**  Ах, да, забыл сказать: решение по тебе ещё не принято. Сделаешь хорошую модель — возьмём в штат.\n",
    "\n",
    "**Мои мысли…** Это что же, мне работать в одиночку?!"
   ]
  },
  {
   "cell_type": "markdown",
   "metadata": {},
   "source": [
    "# 3. Воскрешаем знания о банковском скоринге\n",
    "Вы начали с того, что воскресили в памяти все знания о банковском скоринге, оставшиеся со времён обучения. Вот что у вас получилось:\n",
    "\n",
    "Первая и самая важная цель банка — заработать деньги. Если банк будет вести слишком жесткую политику, не выдавая кредиты даже тем, кто вернул бы деньги, то он не заработает на процентах. Отказ в кредите хорошему заемщику — ошибка первого рода. Риск, с которым сталкивается кредитная организация — дать кредит неблагонадёжному заёмщику, который впоследствии может допустить дефолт, а банк потеряет деньги — ошибка второго рода.\n",
    "\n",
    "\t\n",
    "Чтобы соблюсти баланс, используется кредитный скоринг, который позволяет спрогнозировать вероятность невозврата кредита. Клиентов, обратившихся за кредитом, сортируют по этой предсказанной вероятности (по убыванию), и получается скоркарта — рейтинг клиентов от плохих к хорошим. \n",
    "\n",
    "Используя данные о клиенте, работник банка может решить, выдавать ли клиенту кредит, и если да, то под какой процент.\n",
    "\n",
    "При этом используемый в кредитном скоринге алгоритм позволяет предсказывать значения непрерывной зависимой переменной на интервале от 0  до 1. Банки самостоятельно определяют для себя значения, при которых они принимают решение об отказе в кредите.\n",
    "\n",
    "##### Задание 1\n",
    "Какой алгоритм используется в построении моделей банковского скоринга?\n",
    "- answer: логистическая регрессия "
   ]
  },
  {
   "cell_type": "markdown",
   "metadata": {},
   "source": [
    "## КРАТКАЯ ИСТОРИЯ ТЕХНОЛОГИЙ КРЕДИТНОГО СКОРИНГА\n",
    "\n",
    "К освоению новых технологий в кредитном скоринге побудил сам рынок. Не так давно банки и кредитные организации полагались в основном на кредитную историю человека и величину его дохода. До внедрения алгоритмов машинного обучения в банковской сфере решение о выдаче кредита заемщику принималось экспертом на основе некоторых интуитивно выведенных правил. \n",
    "\n",
    "Сегодня к привычным данным добавились поведенческие данные, биометрия (Единая биометрическая система — ЕБС), данные из социальных сетей и так далее. Всё это обогащает портрет клиента и даёт более высокую точность оценки кредитоспособности.\n",
    "\n",
    "Все данные о кредитах хранятся в специальном месте — Бюро кредитных историй (БКИ). БКИ обрабатывают и хранят информацию о всех, кто когда-либо брал или запрашивал кредиты. \n",
    "\n",
    "####  Кредитная история\n",
    "Определение. Кредитная история — это карточка заёмщика, в которую записываются все операции с кредитами: какой банк выдавал, сколько есть долгов и вовремя ли платит гражданин. Основание: Федеральный закон «О кредитных историях». \n",
    "\n",
    "Многие данные из БКИ легко превращаются в важнейшие метрики, определяющие финансовую порядочность клиента. Такими данными могут быть:\n",
    "\n",
    "- максимальная сумма просрочки;\n",
    "- наиболее частый тип кредитов;\n",
    "- количество активных или непогашенных кредитов.\n",
    "\n",
    "Затем эти данные можно подать на вход скоринг-модели.\n",
    "\n",
    "С развитием машинного обучения БКИ помимо предоставления данных кредитной истории начали предлагать свои скоринг-системы для оценки заемщика. Например, платформа EQIFAX (https://www.equifax.ru/)анализирует крупные массивы данных и, по утверждению создателей продукта, позволяет находить надежных заемщиков, в том числе в высокорисковых сегментах аудитории.\n",
    "\n",
    "Платформа scorista (https://scorista.ru/)помогает МФО оценить заемщика на основе имеющихся данных, подобрать сумму и срок выдачи займа.\n",
    "\n",
    "Банки обладают обширными источниками информации и всё более активно занимаются скорингом с применением автоматизации. Крупные банки, например Сбербанк и Тинькофф уже имеют десятки запущенных скоринговых моделей, построенных на большом количестве данных. Банки задействуют данные не только с БКИ, но и информацию с устройств заемщика, профиль в социальных сетях, данные по уголовной и административной ответственности. \n",
    "\n",
    "ПРИМЕР\n",
    "\n",
    "В качестве одной из переменных скоринговой модели активно используется стиль набора текста. Data Scientists и аналитики обращают внимание на продолжительность пауз между заполнениями полей анкеты. Ввод паспортных данных в среднем занимает около 10 минут — клиент тратит время на поиск самого паспорта или его скана, внимательно вводит данные. Мошенники обычно имеют под рукой готовые данные и вбивают информацию очень быстро. Наличие постоянного удаления информации и ввода совершенно другой, например в поле ФИО, тоже может сказать о подозрительном клиенте. \n",
    "\n",
    "Кредитный скоринг используется для оценки заемщиков, которые уже брали кредиты (повторных клиентов).\n",
    "\n",
    "Для первичных клиентов обычно подразумевается создание отдельной скоринговой модели. Первичная модель больше опирается на анкетные данные, а риск для банка при этом увеличивается. \n",
    "\n",
    "\tВОТ ПОЧЕМУ ЛЮДЯМ С ДЛИННОЙ КРЕДИТНОЙ ИСТОРИЕЙ (КИ) НАМНОГО ОХОТНЕЕ ВЫДАЮТ КРЕДИТЫ, ЧЕМ КЛИЕНТАМ, КОТОРЫЕ НИКОГДА НЕ БРАЛИ КРЕДИТЫ!\n",
    "\n",
    "\t...Так, теорию помню, уже хорошо! Моя задача – построить модель кредитного скоринга для вторичных клиентов. Хм... Для этого надо будет разобраться с работой алгоритмов и определить значимые параметры заемщика.\n",
    "    \n",
    "## КАК УСТРОЕНЫ МОДЕЛИ КРЕДИТНОГО СКОРИНГА\n",
    "\n",
    "Наверняка вы помните, что особенностью алгоритмов для скоринга является требование к интерпретируемости. \n",
    "\n",
    "В контексте ML-системы интерпретируемость — это способность объяснить её действие или показать его в понятном человеку виде. Интерпретируемость можно определить как степень того, насколько человек может понять причину, по которой было принято решение выдать кредит клиенту.\n",
    "\n",
    "Чем сложнее внутренняя структура модели, тем более глубокие взаимосвязи между переменными она может находить — и тем труднее она становится для понимания людьми. В связи с этим часто используются линейные модели.\n",
    "\n",
    "Например, так выглядит простейшая модель для предсказания количества дней просрочки выплаты кредита с одной переменной — возрастом клиента. Согласно этой модели, увеличение возраста клиента на один год в среднем снижает прогноз по просрочке на 0,36 дней.\n",
    "\n",
    "\n",
    "\n",
    "Основная идея линейного классификатора заключается в том, что признаковое пространство может быть разделено гиперплоскостью на два полупространства, в каждом из которых прогнозируется одно из двух значений целевого класса.\n",
    "\n",
    "Логистическая регрессия является частным случаем линейного классификатора, но она обладает хорошим «умением» — прогнозировать вероятность \n",
    "р\n",
    " отнесения примера к классу \"+\".\n",
    "\n",
    "Прогнозирование не просто ответа (\"+1\" или \"-1\"), а именно вероятности отнесения к классу \"+1\" во многих задачах является очень важным бизнес-требованием.\n",
    "\n",
    "\n",
    "\t...С алгоритмом вроде разобрались! Пора познакомиться с данными."
   ]
  },
  {
   "cell_type": "markdown",
   "metadata": {},
   "source": [
    "# 4. Работаем с датасетом\n",
    "Спустя несколько часов составления SQL-запросов вы наконец собрали датасет. \n",
    "СКАЧАТЬ ДАТАСЕТ (train1.csv)\n",
    "##### Задание 1\n",
    "Сколько записей содержит набор данных для моделирования?\n",
    "- answer:  73799 RangeIndex"
   ]
  },
  {
   "cell_type": "code",
   "execution_count": 1,
   "metadata": {},
   "outputs": [
    {
     "name": "stdout",
     "output_type": "stream",
     "text": [
      "<class 'pandas.core.frame.DataFrame'>\n",
      "RangeIndex: 73799 entries, 0 to 73798\n",
      "Data columns (total 14 columns):\n",
      " #   Column            Non-Null Count  Dtype \n",
      "---  ------            --------------  ----- \n",
      " 0   client_id         73799 non-null  int64 \n",
      " 1   education         73492 non-null  object\n",
      " 2   sex               73799 non-null  object\n",
      " 3   age               73799 non-null  int64 \n",
      " 4   car               73799 non-null  object\n",
      " 5   car_type          73799 non-null  object\n",
      " 6   decline_app_cnt   73799 non-null  int64 \n",
      " 7   good_work         73799 non-null  int64 \n",
      " 8   bki_request_cnt   73799 non-null  int64 \n",
      " 9   home_address      73799 non-null  int64 \n",
      " 10  work_address      73799 non-null  int64 \n",
      " 11  income            73799 non-null  int64 \n",
      " 12  foreign_passport  73799 non-null  object\n",
      " 13  default           73799 non-null  int64 \n",
      "dtypes: int64(9), object(5)\n",
      "memory usage: 7.9+ MB\n"
     ]
    }
   ],
   "source": [
    "import warnings\n",
    "warnings.filterwarnings('ignore')\n",
    "import numpy as np\n",
    "import pandas as pd\n",
    "\n",
    "data = pd.read_csv(\"./data/scoring/train.csv\", encoding = 'ISO-8859-1', low_memory = False)\n",
    "data.info()"
   ]
  },
  {
   "cell_type": "markdown",
   "metadata": {},
   "source": [
    "...Прежде чем приступать к построению настоящей скоринговой модели, напишу черновик. Хватает ли мне вообще данных, чтобы построить хоть сколько-нибудь значимую модель, или стоит продолжить сбор данных?\n",
    "→ Приступим!"
   ]
  },
  {
   "cell_type": "code",
   "execution_count": 2,
   "metadata": {},
   "outputs": [],
   "source": [
    "from pandas import Series\n",
    "import pandas as pd\n",
    "import numpy as np\n",
    "\n",
    "\n",
    "import matplotlib.pyplot as plt\n",
    "import seaborn as sns\n",
    "\n",
    "from sklearn.feature_selection import f_classif, mutual_info_classif\n",
    "from sklearn.preprocessing import LabelEncoder, OneHotEncoder, StandardScaler\n",
    "\n",
    "from sklearn.model_selection import train_test_split\n",
    "from sklearn.linear_model import LogisticRegression\n",
    "\n",
    "\n",
    "from sklearn.metrics import confusion_matrix\n",
    "from sklearn.metrics import auc, roc_auc_score, roc_curve"
   ]
  },
  {
   "cell_type": "markdown",
   "metadata": {},
   "source": [
    "Посмотрим на данные:\n",
    "\n",
    "- client_id\tидентификатор клиента\n",
    "- education\tуровень образования\n",
    "- sex\tпол заёмщика\n",
    "- age\tвозраст заёмщика\n",
    "- car\tфлаг наличия автомобиля\n",
    "- car_type\tфлаг автомобиля-иномарки\n",
    "- decline_app_cnt\tколичество отказанных прошлых заявок\n",
    "- good_work\tфлаг наличия «хорошей» работы\n",
    "- bki_request_cnt\tколичество запросов в БКИ\n",
    "- home_address\tкатегоризатор домашнего адреса\n",
    "- work_address\tкатегоризатор рабочего адреса\n",
    "- income\tдоход заёмщика\n",
    "- foreign_passport\tналичие загранпаспорта\n",
    "- default\tналичие дефолта"
   ]
  },
  {
   "cell_type": "markdown",
   "metadata": {},
   "source": [
    "##### Задание 2\n",
    "Постройте диаграмму для переменной default. Каких клиентов у банка больше?\n",
    "- answer: без дефолта"
   ]
  },
  {
   "cell_type": "code",
   "execution_count": 3,
   "metadata": {},
   "outputs": [
    {
     "data": {
      "text/plain": [
       "<AxesSubplot:>"
      ]
     },
     "execution_count": 3,
     "metadata": {},
     "output_type": "execute_result"
    },
    {
     "data": {
      "image/png": "[encoded data removed]",
      "text/plain": [
       "<Figure size 432x288 with 1 Axes>"
      ]
     },
     "metadata": {
      "needs_background": "light"
     },
     "output_type": "display_data"
    }
   ],
   "source": [
    "data.default.hist()"
   ]
  },
  {
   "cell_type": "code",
   "execution_count": 4,
   "metadata": {},
   "outputs": [
    {
     "name": "stdout",
     "output_type": "stream",
     "text": [
      "client_id             0\n",
      "education           307\n",
      "sex                   0\n",
      "age                   0\n",
      "car                   0\n",
      "car_type              0\n",
      "decline_app_cnt       0\n",
      "good_work             0\n",
      "bki_request_cnt       0\n",
      "home_address          0\n",
      "work_address          0\n",
      "income                0\n",
      "foreign_passport      0\n",
      "default               0\n",
      "dtype: int64\n"
     ]
    }
   ],
   "source": [
    "# пропущенные значения\n",
    "print(data.isna().sum())"
   ]
  },
  {
   "cell_type": "markdown",
   "metadata": {},
   "source": [
    "В данных о клиентах присутствуют переменные всех типов, не все имеют числовую запись, а также есть пропущенные значения. Значит, нам необходима предварительная очистка данных.\n",
    "\n",
    "Как мы видим, пропуски встречаются только в информации об образовании клиентов. Посмотрим на признак ближе:"
   ]
  },
  {
   "cell_type": "code",
   "execution_count": 5,
   "metadata": {},
   "outputs": [
    {
     "data": {
      "text/plain": [
       "<AxesSubplot:>"
      ]
     },
     "execution_count": 5,
     "metadata": {},
     "output_type": "execute_result"
    },
    {
     "data": {
      "image/png": "[encoded data removed]",
      "text/plain": [
       "<Figure size 432x288 with 1 Axes>"
      ]
     },
     "metadata": {
      "needs_background": "light"
     },
     "output_type": "display_data"
    }
   ],
   "source": [
    "data['education'].value_counts().plot.barh()"
   ]
  },
  {
   "cell_type": "markdown",
   "metadata": {},
   "source": [
    "→ ЗАДАНИЕ\n",
    "\n",
    "А теперь самостоятельно заполните пропуски в поле 'education' любыми известными вам методами.\n",
    "\n",
    "##### Задание 3. Заполните пропуски\n",
    "Полученные признаки сгруппируем в три категории по типу их обработки (категориальные, бинарные и числовые) для дальнейшего удобного анализа. Разнесите недостающие признаки в соответствующие категории."
   ]
  },
  {
   "cell_type": "code",
   "execution_count": 6,
   "metadata": {},
   "outputs": [
    {
     "data": {
      "text/html": [
       "<div>\n",
       "<style scoped>\n",
       "    .dataframe tbody tr th:only-of-type {\n",
       "        vertical-align: middle;\n",
       "    }\n",
       "\n",
       "    .dataframe tbody tr th {\n",
       "        vertical-align: top;\n",
       "    }\n",
       "\n",
       "    .dataframe thead th {\n",
       "        text-align: right;\n",
       "    }\n",
       "</style>\n",
       "<table border=\"1\" class=\"dataframe\">\n",
       "  <thead>\n",
       "    <tr style=\"text-align: right;\">\n",
       "      <th></th>\n",
       "      <th>good_work</th>\n",
       "      <th>education</th>\n",
       "      <th>income</th>\n",
       "    </tr>\n",
       "  </thead>\n",
       "  <tbody>\n",
       "    <tr>\n",
       "      <th>47155</th>\n",
       "      <td>0</td>\n",
       "      <td>UGR</td>\n",
       "      <td>35000</td>\n",
       "    </tr>\n",
       "    <tr>\n",
       "      <th>61073</th>\n",
       "      <td>0</td>\n",
       "      <td>GRD</td>\n",
       "      <td>70000</td>\n",
       "    </tr>\n",
       "    <tr>\n",
       "      <th>42143</th>\n",
       "      <td>0</td>\n",
       "      <td>GRD</td>\n",
       "      <td>30000</td>\n",
       "    </tr>\n",
       "    <tr>\n",
       "      <th>24775</th>\n",
       "      <td>0</td>\n",
       "      <td>GRD</td>\n",
       "      <td>45000</td>\n",
       "    </tr>\n",
       "    <tr>\n",
       "      <th>63701</th>\n",
       "      <td>0</td>\n",
       "      <td>SCH</td>\n",
       "      <td>15000</td>\n",
       "    </tr>\n",
       "    <tr>\n",
       "      <th>20987</th>\n",
       "      <td>0</td>\n",
       "      <td>SCH</td>\n",
       "      <td>15000</td>\n",
       "    </tr>\n",
       "    <tr>\n",
       "      <th>61989</th>\n",
       "      <td>0</td>\n",
       "      <td>SCH</td>\n",
       "      <td>80000</td>\n",
       "    </tr>\n",
       "    <tr>\n",
       "      <th>71801</th>\n",
       "      <td>0</td>\n",
       "      <td>UGR</td>\n",
       "      <td>25000</td>\n",
       "    </tr>\n",
       "    <tr>\n",
       "      <th>62453</th>\n",
       "      <td>0</td>\n",
       "      <td>GRD</td>\n",
       "      <td>40000</td>\n",
       "    </tr>\n",
       "    <tr>\n",
       "      <th>60933</th>\n",
       "      <td>0</td>\n",
       "      <td>SCH</td>\n",
       "      <td>10000</td>\n",
       "    </tr>\n",
       "  </tbody>\n",
       "</table>\n",
       "</div>"
      ],
      "text/plain": [
       "       good_work education  income\n",
       "47155          0       UGR   35000\n",
       "61073          0       GRD   70000\n",
       "42143          0       GRD   30000\n",
       "24775          0       GRD   45000\n",
       "63701          0       SCH   15000\n",
       "20987          0       SCH   15000\n",
       "61989          0       SCH   80000\n",
       "71801          0       UGR   25000\n",
       "62453          0       GRD   40000\n",
       "60933          0       SCH   10000"
      ]
     },
     "metadata": {},
     "output_type": "display_data"
    }
   ],
   "source": [
    "# Предположим, чтоо зная о хорошей работе, его доходы, мы сможем сделать вывод о его образовании\n",
    "display(data[['good_work', 'education', 'income']].sample(10))"
   ]
  },
  {
   "cell_type": "code",
   "execution_count": 7,
   "metadata": {},
   "outputs": [
    {
     "data": {
      "text/plain": [
       "education  good_work\n",
       "ACD        0            90068.669903\n",
       "           1            74928.065934\n",
       "GRD        0            55407.223822\n",
       "           1            52409.361298\n",
       "PGR        0            80479.809578\n",
       "           1            70782.373684\n",
       "SCH        0            32193.880132\n",
       "           1            30030.931856\n",
       "UGR        0            39758.623666\n",
       "           1            37590.786273\n",
       "Name: income, dtype: float64"
      ]
     },
     "execution_count": 7,
     "metadata": {},
     "output_type": "execute_result"
    }
   ],
   "source": [
    "# Посмотрим средний доход, в зависимости от образования и хорошей работы\n",
    "data.groupby(['education', 'good_work']).income.mean()"
   ]
  },
  {
   "cell_type": "code",
   "execution_count": 8,
   "metadata": {},
   "outputs": [],
   "source": [
    "# по данным видно что при наличии образования доход выше, мы заменим GRD все значения выше 50000 иначе поставим UGR        \n",
    "data['education'] = data.apply(lambda x: ('GRD' if x.income > 50000 else 'UGR')\\\n",
    "                             if pd.isna(x.education) else x.education , axis=1)"
   ]
  },
  {
   "cell_type": "code",
   "execution_count": 9,
   "metadata": {},
   "outputs": [],
   "source": [
    "# бинарные переменные\n",
    "bin_cols = ['sex','car','car_type','foreign_passport', 'good_work']\n",
    "\n",
    "# категориальные переменные\n",
    "cat_cols = ['education','home_address','work_address']\n",
    "\n",
    "# числовые переменные\n",
    "num_cols = ['age', 'decline_app_cnt', 'income','bki_request_cnt']"
   ]
  },
  {
   "cell_type": "markdown",
   "metadata": {},
   "source": [
    "# 5. Визуализация\n",
    "Посмотрим на распределение числовых данных:"
   ]
  },
  {
   "cell_type": "code",
   "execution_count": 10,
   "metadata": {},
   "outputs": [
    {
     "data": {
      "text/plain": [
       "array([[<AxesSubplot:title={'center':'age'}>,\n",
       "        <AxesSubplot:title={'center':'decline_app_cnt'}>],\n",
       "       [<AxesSubplot:title={'center':'income'}>,\n",
       "        <AxesSubplot:title={'center':'bki_request_cnt'}>]], dtype=object)"
      ]
     },
     "execution_count": 10,
     "metadata": {},
     "output_type": "execute_result"
    },
    {
     "data": {
      "image/png": "[encoded data removed]",
      "text/plain": [
       "<Figure size 432x288 with 4 Axes>"
      ]
     },
     "metadata": {
      "needs_background": "light"
     },
     "output_type": "display_data"
    }
   ],
   "source": [
    "data[num_cols].hist()"
   ]
  },
  {
   "cell_type": "markdown",
   "metadata": {},
   "source": [
    "…Насколько я помню, для того чтобы сделать распределение данных переменных более нормальным, можно работать с логарифмированными величинами этих переменных. Тогда я смогу избежать чувствительности к сильным отклонениям в суммах у линейных моделей.\n",
    "Построим графики распределения **логарифмированных переменных**."
   ]
  },
  {
   "cell_type": "code",
   "execution_count": 11,
   "metadata": {},
   "outputs": [
    {
     "data": {
      "image/png": "[encoded data removed]",
      "text/plain": [
       "<Figure size 432x288 with 1 Axes>"
      ]
     },
     "metadata": {
      "needs_background": "light"
     },
     "output_type": "display_data"
    },
    {
     "data": {
      "image/png": "[encoded data removed]",
      "text/plain": [
       "<Figure size 432x288 with 1 Axes>"
      ]
     },
     "metadata": {
      "needs_background": "light"
     },
     "output_type": "display_data"
    },
    {
     "data": {
      "image/png": "[encoded data removed]",
      "text/plain": [
       "<Figure size 432x288 with 1 Axes>"
      ]
     },
     "metadata": {
      "needs_background": "light"
     },
     "output_type": "display_data"
    },
    {
     "data": {
      "image/png": "[encoded data removed]",
      "text/plain": [
       "<Figure size 432x288 with 1 Axes>"
      ]
     },
     "metadata": {
      "needs_background": "light"
     },
     "output_type": "display_data"
    }
   ],
   "source": [
    "for i in num_cols:\n",
    "    plt.figure()\n",
    "    sns.distplot(data[i][data[i] > 0].dropna(), kde = False, rug=False)\n",
    "    plt.title(i)\n",
    "    plt.show()"
   ]
  },
  {
   "cell_type": "markdown",
   "metadata": {},
   "source": [
    "Идея на заметку! Некоторые переменные стали менее смещёнными. Такой принцип можно применить перед построением модели и сравнить значение метрики.\n",
    "\n",
    "##### Задание 1\n",
    "Постройте boxplot’ы для численных переменных и ответьте на следующие вопросы:\n",
    "\n",
    "Дефолтные клиенты в среднем ... **младше**\n",
    "\n",
    "Дефолтные клиенты в среднем имеют **большое** количество отмененных заявок \n",
    " \n",
    "Дефолтные клиенты в среднем имеют **больше** запросов в БКИ \n",
    "\n",
    "Дефолтные клиенты в среднем имеют более **низкий** доход \n"
   ]
  },
  {
   "cell_type": "code",
   "execution_count": 12,
   "metadata": {},
   "outputs": [
    {
     "data": {
      "image/png": "[encoded data removed]",
      "text/plain": [
       "<Figure size 432x288 with 1 Axes>"
      ]
     },
     "metadata": {
      "needs_background": "light"
     },
     "output_type": "display_data"
    },
    {
     "data": {
      "image/png": "[encoded data removed]",
      "text/plain": [
       "<Figure size 432x288 with 1 Axes>"
      ]
     },
     "metadata": {
      "needs_background": "light"
     },
     "output_type": "display_data"
    },
    {
     "data": {
      "image/png": "[encoded data removed]",
      "text/plain": [
       "<Figure size 432x288 with 1 Axes>"
      ]
     },
     "metadata": {
      "needs_background": "light"
     },
     "output_type": "display_data"
    },
    {
     "data": {
      "image/png": "[encoded data removed]",
      "text/plain": [
       "<Figure size 432x288 with 1 Axes>"
      ]
     },
     "metadata": {
      "needs_background": "light"
     },
     "output_type": "display_data"
    }
   ],
   "source": [
    "for i in num_cols:\n",
    "    plt.figure()\n",
    "    sns.boxplot(data[i][data[i] > 0].dropna())\n",
    "    plt.title(i)\n",
    "    plt.show()"
   ]
  },
  {
   "cell_type": "markdown",
   "metadata": {},
   "source": [
    "# 6. Оценка корреляций\n",
    "\n",
    "Вы помните, что сильная корреляция между переменными вредна для линейных моделей из-за неустойчивости полученных оценок.\n",
    "\n",
    "Как работать с корреляцией? \n",
    "\n",
    "→ Способ 1. Отобрать низко коррелируемые признаки .\n",
    "\n",
    "→ Способ 2. Использовать регуляризацию, чтобы в процессе обучения штрафовать модель за сложность, выраженную в величине весов, при этом задавая величину штрафа. Изменяя эту величину, я смогу контролировать переобучение и устойчивость модели. \n",
    "\n",
    "Но начнём с простого...\n",
    "\n",
    "Оценим корреляцию Пирсона для непрерывных переменных по формуле:\n",
    "\n"
   ]
  },
  {
   "cell_type": "code",
   "execution_count": 13,
   "metadata": {},
   "outputs": [
    {
     "data": {
      "text/plain": [
       "<AxesSubplot:>"
      ]
     },
     "execution_count": 13,
     "metadata": {},
     "output_type": "execute_result"
    },
    {
     "data": {
      "image/png": "[encoded data removed]",
      "text/plain": [
       "<Figure size 432x288 with 2 Axes>"
      ]
     },
     "metadata": {
      "needs_background": "light"
     },
     "output_type": "display_data"
    }
   ],
   "source": [
    "sns.heatmap(data[num_cols].corr().abs(), vmin=0, vmax=1)"
   ]
  },
  {
   "cell_type": "markdown",
   "metadata": {},
   "source": [
    "##### Задание 1\n",
    "Сделайте выводы на основе графика и напишите их в поле ниже:\n",
    " есть малая корреляция между отмененными заявоками  и запросами в БКИ\n",
    " \n",
    " Как мы видим, взаимосвязь пар числовых признаков по Пирсону слабая. Максимальный коэффициент -0.127734 и 0.125163. Это очень здорово для нашей линейной модели!"
   ]
  },
  {
   "cell_type": "code",
   "execution_count": 14,
   "metadata": {},
   "outputs": [
    {
     "data": {
      "text/html": [
       "<div>\n",
       "<style scoped>\n",
       "    .dataframe tbody tr th:only-of-type {\n",
       "        vertical-align: middle;\n",
       "    }\n",
       "\n",
       "    .dataframe tbody tr th {\n",
       "        vertical-align: top;\n",
       "    }\n",
       "\n",
       "    .dataframe thead th {\n",
       "        text-align: right;\n",
       "    }\n",
       "</style>\n",
       "<table border=\"1\" class=\"dataframe\">\n",
       "  <thead>\n",
       "    <tr style=\"text-align: right;\">\n",
       "      <th></th>\n",
       "      <th>age</th>\n",
       "      <th>decline_app_cnt</th>\n",
       "      <th>income</th>\n",
       "      <th>bki_request_cnt</th>\n",
       "    </tr>\n",
       "  </thead>\n",
       "  <tbody>\n",
       "    <tr>\n",
       "      <th>age</th>\n",
       "      <td>1.000000</td>\n",
       "      <td>0.111175</td>\n",
       "      <td>0.018900</td>\n",
       "      <td>0.046265</td>\n",
       "    </tr>\n",
       "    <tr>\n",
       "      <th>decline_app_cnt</th>\n",
       "      <td>0.111175</td>\n",
       "      <td>1.000000</td>\n",
       "      <td>0.021687</td>\n",
       "      <td>0.155894</td>\n",
       "    </tr>\n",
       "    <tr>\n",
       "      <th>income</th>\n",
       "      <td>0.018900</td>\n",
       "      <td>0.021687</td>\n",
       "      <td>1.000000</td>\n",
       "      <td>0.082983</td>\n",
       "    </tr>\n",
       "    <tr>\n",
       "      <th>bki_request_cnt</th>\n",
       "      <td>0.046265</td>\n",
       "      <td>0.155894</td>\n",
       "      <td>0.082983</td>\n",
       "      <td>1.000000</td>\n",
       "    </tr>\n",
       "  </tbody>\n",
       "</table>\n",
       "</div>"
      ],
      "text/plain": [
       "                      age  decline_app_cnt    income  bki_request_cnt\n",
       "age              1.000000         0.111175  0.018900         0.046265\n",
       "decline_app_cnt  0.111175         1.000000  0.021687         0.155894\n",
       "income           0.018900         0.021687  1.000000         0.082983\n",
       "bki_request_cnt  0.046265         0.155894  0.082983         1.000000"
      ]
     },
     "execution_count": 14,
     "metadata": {},
     "output_type": "execute_result"
    }
   ],
   "source": [
    "data[num_cols].corr().abs()"
   ]
  },
  {
   "cell_type": "markdown",
   "metadata": {},
   "source": [
    "# 7. Значимость непрерывных переменных\n",
    "\n",
    "Для оценки значимости числовых переменных будем использовать функцию \n",
    "\n",
    "#### f_classif ( https://scikit-learn.org/stable/modules/generated/sklearn.feature_selection.f_classif.html) \n",
    "из библиотеки sklearn. \n",
    "\n",
    "Возможности модуля \n",
    "#### sklearn.feature_selection** (https://scikit-learn.org/stable/modules/classes.html#module-sklearn.feature_selection)\n",
    "могут быть использованы не только для выбора важных признаков, но и для уменьшения размерности, улучшения предсказательной силы моделей, либо для повышения их производительности на очень многомерных наборах данных.\n",
    "\n",
    "В основе метода оценки значимости переменных лежит \n",
    "#### однофакторный дисперсионный анализ (ANOVA) - https://lit-review.ru/biostatistika/dispersionnyjj-analiz-anova/\n",
    "\n",
    "Основу процедуры составляет обобщение результатов двух выборочных t-тестов для независимых выборок (2-sample t). \n",
    "\n",
    "В качестве меры значимости мы будем использовать значение f-статистики. Чем значение статистики выше, тем меньше вероятность того, что средние значения не отличаются, и тем важнее данный признак для нашей линейной модели."
   ]
  },
  {
   "cell_type": "code",
   "execution_count": 15,
   "metadata": {},
   "outputs": [
    {
     "data": {
      "text/plain": [
       "<AxesSubplot:>"
      ]
     },
     "execution_count": 15,
     "metadata": {},
     "output_type": "execute_result"
    },
    {
     "data": {
      "image/png": "[encoded data removed]",
      "text/plain": [
       "<Figure size 432x288 with 1 Axes>"
      ]
     },
     "metadata": {
      "needs_background": "light"
     },
     "output_type": "display_data"
    }
   ],
   "source": [
    "imp_num = Series(f_classif(data[num_cols], data['default'])[0], index = num_cols)\n",
    "imp_num.sort_values(inplace = True)\n",
    "imp_num.plot(kind = 'barh')"
   ]
  },
  {
   "cell_type": "markdown",
   "metadata": {},
   "source": [
    "##### Задание 1\n",
    "Выполните построение визуализации важности признаков (выше) и ответьте на вопрос: какой признак самый значимый из числовых?\n",
    "- answer: decline_app_cnt "
   ]
  },
  {
   "cell_type": "markdown",
   "metadata": {},
   "source": [
    "# 8. Категориальные переменные\n",
    "Чтобы алгоритмы машинного обучения могли работать с категориальными данными, их нужно преобразовать в числа...\n",
    "Самый простой способ — отобразить каждое значение категории в уникальное число. Например, в поле sex значение sex = female преобразовать в , а sex = male — в . Эту простую операцию приходится делать достаточно часто, поэтому в модуле \n",
    "#### sklearn.preprocessing - https://scikit-learn.org/stable/modules/classes.html#module-sklearn.preprocessing\n",
    "именно для этой задачи реализован класс \n",
    "#### LabelEncoder. - https://scikit-learn.org/stable/modules/generated/sklearn.preprocessing.LabelEncoder.html#sklearn.preprocessing.LabelEncoder\n",
    "\n",
    "Метод fit этого класса находит все уникальные значения и строит таблицу для соответствия каждой категории некоторому числу, а метод transform непосредственно преобразует значения в числа. После fit у label_encoder будет доступно поле classes_, содержащее все уникальные значения. Можно их пронумеровать и убедиться, что преобразование выполнено верно."
   ]
  },
  {
   "cell_type": "code",
   "execution_count": 16,
   "metadata": {},
   "outputs": [
    {
     "name": "stdout",
     "output_type": "stream",
     "text": [
      "{0: 'F', 1: 'M'}\n"
     ]
    }
   ],
   "source": [
    "label_encoder = LabelEncoder()\n",
    "\n",
    "mapped_education = pd.Series(label_encoder.fit_transform(data['sex']))\n",
    "print(dict(enumerate(label_encoder.classes_)))"
   ]
  },
  {
   "cell_type": "markdown",
   "metadata": {},
   "source": [
    "Сработало! Теперь всегда можно обратиться к classes_ , если забыли, что закодировали. Применим LabelEncoder ко всему набору бинарных переменных."
   ]
  },
  {
   "cell_type": "code",
   "execution_count": 17,
   "metadata": {},
   "outputs": [
    {
     "data": {
      "text/html": [
       "<div>\n",
       "<style scoped>\n",
       "    .dataframe tbody tr th:only-of-type {\n",
       "        vertical-align: middle;\n",
       "    }\n",
       "\n",
       "    .dataframe tbody tr th {\n",
       "        vertical-align: top;\n",
       "    }\n",
       "\n",
       "    .dataframe thead th {\n",
       "        text-align: right;\n",
       "    }\n",
       "</style>\n",
       "<table border=\"1\" class=\"dataframe\">\n",
       "  <thead>\n",
       "    <tr style=\"text-align: right;\">\n",
       "      <th></th>\n",
       "      <th>client_id</th>\n",
       "      <th>education</th>\n",
       "      <th>sex</th>\n",
       "      <th>age</th>\n",
       "      <th>car</th>\n",
       "      <th>car_type</th>\n",
       "      <th>decline_app_cnt</th>\n",
       "      <th>good_work</th>\n",
       "      <th>bki_request_cnt</th>\n",
       "      <th>home_address</th>\n",
       "      <th>work_address</th>\n",
       "      <th>income</th>\n",
       "      <th>foreign_passport</th>\n",
       "      <th>default</th>\n",
       "    </tr>\n",
       "  </thead>\n",
       "  <tbody>\n",
       "    <tr>\n",
       "      <th>0</th>\n",
       "      <td>25905</td>\n",
       "      <td>SCH</td>\n",
       "      <td>1</td>\n",
       "      <td>62</td>\n",
       "      <td>1</td>\n",
       "      <td>1</td>\n",
       "      <td>0</td>\n",
       "      <td>0</td>\n",
       "      <td>1</td>\n",
       "      <td>1</td>\n",
       "      <td>2</td>\n",
       "      <td>18000</td>\n",
       "      <td>0</td>\n",
       "      <td>0</td>\n",
       "    </tr>\n",
       "    <tr>\n",
       "      <th>1</th>\n",
       "      <td>63161</td>\n",
       "      <td>SCH</td>\n",
       "      <td>0</td>\n",
       "      <td>59</td>\n",
       "      <td>0</td>\n",
       "      <td>0</td>\n",
       "      <td>0</td>\n",
       "      <td>0</td>\n",
       "      <td>3</td>\n",
       "      <td>2</td>\n",
       "      <td>3</td>\n",
       "      <td>19000</td>\n",
       "      <td>0</td>\n",
       "      <td>0</td>\n",
       "    </tr>\n",
       "    <tr>\n",
       "      <th>2</th>\n",
       "      <td>25887</td>\n",
       "      <td>SCH</td>\n",
       "      <td>1</td>\n",
       "      <td>25</td>\n",
       "      <td>1</td>\n",
       "      <td>0</td>\n",
       "      <td>2</td>\n",
       "      <td>0</td>\n",
       "      <td>1</td>\n",
       "      <td>1</td>\n",
       "      <td>2</td>\n",
       "      <td>30000</td>\n",
       "      <td>1</td>\n",
       "      <td>0</td>\n",
       "    </tr>\n",
       "    <tr>\n",
       "      <th>3</th>\n",
       "      <td>16222</td>\n",
       "      <td>SCH</td>\n",
       "      <td>0</td>\n",
       "      <td>53</td>\n",
       "      <td>0</td>\n",
       "      <td>0</td>\n",
       "      <td>0</td>\n",
       "      <td>0</td>\n",
       "      <td>2</td>\n",
       "      <td>2</td>\n",
       "      <td>3</td>\n",
       "      <td>10000</td>\n",
       "      <td>0</td>\n",
       "      <td>0</td>\n",
       "    </tr>\n",
       "    <tr>\n",
       "      <th>4</th>\n",
       "      <td>101655</td>\n",
       "      <td>GRD</td>\n",
       "      <td>1</td>\n",
       "      <td>48</td>\n",
       "      <td>0</td>\n",
       "      <td>0</td>\n",
       "      <td>0</td>\n",
       "      <td>1</td>\n",
       "      <td>1</td>\n",
       "      <td>2</td>\n",
       "      <td>3</td>\n",
       "      <td>30000</td>\n",
       "      <td>1</td>\n",
       "      <td>0</td>\n",
       "    </tr>\n",
       "  </tbody>\n",
       "</table>\n",
       "</div>"
      ],
      "text/plain": [
       "   client_id education  sex  age  car  car_type  decline_app_cnt  good_work  \\\n",
       "0      25905       SCH    1   62    1         1                0          0   \n",
       "1      63161       SCH    0   59    0         0                0          0   \n",
       "2      25887       SCH    1   25    1         0                2          0   \n",
       "3      16222       SCH    0   53    0         0                0          0   \n",
       "4     101655       GRD    1   48    0         0                0          1   \n",
       "\n",
       "   bki_request_cnt  home_address  work_address  income  foreign_passport  \\\n",
       "0                1             1             2   18000                 0   \n",
       "1                3             2             3   19000                 0   \n",
       "2                1             1             2   30000                 1   \n",
       "3                2             2             3   10000                 0   \n",
       "4                1             2             3   30000                 1   \n",
       "\n",
       "   default  \n",
       "0        0  \n",
       "1        0  \n",
       "2        0  \n",
       "3        0  \n",
       "4        0  "
      ]
     },
     "execution_count": 17,
     "metadata": {},
     "output_type": "execute_result"
    }
   ],
   "source": [
    "# Для бинарных признаков мы будем использовать LabelEncoder\n",
    "\n",
    "label_encoder = LabelEncoder()\n",
    "\n",
    "for column in bin_cols:\n",
    "    data[column] = label_encoder.fit_transform(data[column])\n",
    "    \n",
    "# убедимся в преобразовании    \n",
    "data.head()"
   ]
  },
  {
   "cell_type": "markdown",
   "metadata": {},
   "source": [
    "Почему мы применили метод только к бинарным переменным? Единственным минусом использования кодирования при помощи LabelEncoder() является то, что при использовании этого подхода мы должны быть уверены, что признак не может принимать неизвестных ранее значений. \n",
    "\n",
    "→ Что произойдет, если у нас появятся данные с другими категориями? LabelEncoder будет ругаться, что не знает новую категорию. \n",
    "\n",
    "Например, если у нас появится новый пол (помимо женского и мужского), признак sex придется обрабатывать по-другому.\n",
    "\n",
    "Исходя из описания, наши признаки строго бинарные (принимают только два значения) и сюрпризов (новых неизвестных значений) быть не должно.\n",
    "\n",
    "## ЗНАЧИМОСТЬ КАТЕГОРИАЛЬНЫХ ПРИЗНАКОВ\n",
    "\n",
    "Для оценки значимости категориальных и бинарных переменных будем использовать функцию \n",
    "#### mutual_info_classif - https://scikit-learn.org/stable/modules/generated/sklearn.feature_selection.mutual_info_classif.html\n",
    "из библиотеки sklearn. Данная функция опирается на непараметрические методы, основанные на оценке энтропии в группах категориальных переменных."
   ]
  },
  {
   "cell_type": "code",
   "execution_count": 18,
   "metadata": {},
   "outputs": [
    {
     "ename": "ValueError",
     "evalue": "could not convert string to float: 'SCH'",
     "output_type": "error",
     "traceback": [
      "\u001b[1;31m---------------------------------------------------------------------------\u001b[0m",
      "\u001b[1;31mValueError\u001b[0m                                Traceback (most recent call last)",
      "\u001b[1;32m<ipython-input-18-3dc895f9d0d5>\u001b[0m in \u001b[0;36m<module>\u001b[1;34m\u001b[0m\n\u001b[1;32m----> 1\u001b[1;33m imp_cat = Series(mutual_info_classif(data[bin_cols + cat_cols], data['default'],\n\u001b[0m\u001b[0;32m      2\u001b[0m                                      discrete_features =True), index = bin_cols + cat_cols)\n\u001b[0;32m      3\u001b[0m \u001b[0mimp_cat\u001b[0m\u001b[1;33m.\u001b[0m\u001b[0msort_values\u001b[0m\u001b[1;33m(\u001b[0m\u001b[0minplace\u001b[0m \u001b[1;33m=\u001b[0m \u001b[1;32mTrue\u001b[0m\u001b[1;33m)\u001b[0m\u001b[1;33m\u001b[0m\u001b[1;33m\u001b[0m\u001b[0m\n\u001b[0;32m      4\u001b[0m \u001b[0mimp_cat\u001b[0m\u001b[1;33m.\u001b[0m\u001b[0mplot\u001b[0m\u001b[1;33m(\u001b[0m\u001b[0mkind\u001b[0m \u001b[1;33m=\u001b[0m \u001b[1;34m'barh'\u001b[0m\u001b[1;33m)\u001b[0m\u001b[1;33m\u001b[0m\u001b[1;33m\u001b[0m\u001b[0m\n",
      "\u001b[1;32mC:\\ProgramData\\Anaconda3\\lib\\site-packages\\sklearn\\utils\\validation.py\u001b[0m in \u001b[0;36minner_f\u001b[1;34m(*args, **kwargs)\u001b[0m\n\u001b[0;32m     70\u001b[0m                           FutureWarning)\n\u001b[0;32m     71\u001b[0m         \u001b[0mkwargs\u001b[0m\u001b[1;33m.\u001b[0m\u001b[0mupdate\u001b[0m\u001b[1;33m(\u001b[0m\u001b[1;33m{\u001b[0m\u001b[0mk\u001b[0m\u001b[1;33m:\u001b[0m \u001b[0marg\u001b[0m \u001b[1;32mfor\u001b[0m \u001b[0mk\u001b[0m\u001b[1;33m,\u001b[0m \u001b[0marg\u001b[0m \u001b[1;32min\u001b[0m \u001b[0mzip\u001b[0m\u001b[1;33m(\u001b[0m\u001b[0msig\u001b[0m\u001b[1;33m.\u001b[0m\u001b[0mparameters\u001b[0m\u001b[1;33m,\u001b[0m \u001b[0margs\u001b[0m\u001b[1;33m)\u001b[0m\u001b[1;33m}\u001b[0m\u001b[1;33m)\u001b[0m\u001b[1;33m\u001b[0m\u001b[1;33m\u001b[0m\u001b[0m\n\u001b[1;32m---> 72\u001b[1;33m         \u001b[1;32mreturn\u001b[0m \u001b[0mf\u001b[0m\u001b[1;33m(\u001b[0m\u001b[1;33m**\u001b[0m\u001b[0mkwargs\u001b[0m\u001b[1;33m)\u001b[0m\u001b[1;33m\u001b[0m\u001b[1;33m\u001b[0m\u001b[0m\n\u001b[0m\u001b[0;32m     73\u001b[0m     \u001b[1;32mreturn\u001b[0m \u001b[0minner_f\u001b[0m\u001b[1;33m\u001b[0m\u001b[1;33m\u001b[0m\u001b[0m\n\u001b[0;32m     74\u001b[0m \u001b[1;33m\u001b[0m\u001b[0m\n",
      "\u001b[1;32mC:\\ProgramData\\Anaconda3\\lib\\site-packages\\sklearn\\feature_selection\\_mutual_info.py\u001b[0m in \u001b[0;36mmutual_info_classif\u001b[1;34m(X, y, discrete_features, n_neighbors, copy, random_state)\u001b[0m\n\u001b[0;32m    445\u001b[0m     \"\"\"\n\u001b[0;32m    446\u001b[0m     \u001b[0mcheck_classification_targets\u001b[0m\u001b[1;33m(\u001b[0m\u001b[0my\u001b[0m\u001b[1;33m)\u001b[0m\u001b[1;33m\u001b[0m\u001b[1;33m\u001b[0m\u001b[0m\n\u001b[1;32m--> 447\u001b[1;33m     return _estimate_mi(X, y, discrete_features, True, n_neighbors,\n\u001b[0m\u001b[0;32m    448\u001b[0m                         copy, random_state)\n",
      "\u001b[1;32mC:\\ProgramData\\Anaconda3\\lib\\site-packages\\sklearn\\feature_selection\\_mutual_info.py\u001b[0m in \u001b[0;36m_estimate_mi\u001b[1;34m(X, y, discrete_features, discrete_target, n_neighbors, copy, random_state)\u001b[0m\n\u001b[0;32m    244\u001b[0m            \u001b[0mData\u001b[0m \u001b[0mSets\u001b[0m\u001b[0;31m\"\u001b[0m\u001b[1;33m.\u001b[0m \u001b[0mPLoS\u001b[0m \u001b[0mONE\u001b[0m \u001b[1;36m9\u001b[0m\u001b[1;33m(\u001b[0m\u001b[1;36m2\u001b[0m\u001b[1;33m)\u001b[0m\u001b[1;33m,\u001b[0m \u001b[1;36m2014.\u001b[0m\u001b[1;33m\u001b[0m\u001b[1;33m\u001b[0m\u001b[0m\n\u001b[0;32m    245\u001b[0m     \"\"\"\n\u001b[1;32m--> 246\u001b[1;33m     \u001b[0mX\u001b[0m\u001b[1;33m,\u001b[0m \u001b[0my\u001b[0m \u001b[1;33m=\u001b[0m \u001b[0mcheck_X_y\u001b[0m\u001b[1;33m(\u001b[0m\u001b[0mX\u001b[0m\u001b[1;33m,\u001b[0m \u001b[0my\u001b[0m\u001b[1;33m,\u001b[0m \u001b[0maccept_sparse\u001b[0m\u001b[1;33m=\u001b[0m\u001b[1;34m'csc'\u001b[0m\u001b[1;33m,\u001b[0m \u001b[0my_numeric\u001b[0m\u001b[1;33m=\u001b[0m\u001b[1;32mnot\u001b[0m \u001b[0mdiscrete_target\u001b[0m\u001b[1;33m)\u001b[0m\u001b[1;33m\u001b[0m\u001b[1;33m\u001b[0m\u001b[0m\n\u001b[0m\u001b[0;32m    247\u001b[0m     \u001b[0mn_samples\u001b[0m\u001b[1;33m,\u001b[0m \u001b[0mn_features\u001b[0m \u001b[1;33m=\u001b[0m \u001b[0mX\u001b[0m\u001b[1;33m.\u001b[0m\u001b[0mshape\u001b[0m\u001b[1;33m\u001b[0m\u001b[1;33m\u001b[0m\u001b[0m\n\u001b[0;32m    248\u001b[0m \u001b[1;33m\u001b[0m\u001b[0m\n",
      "\u001b[1;32mC:\\ProgramData\\Anaconda3\\lib\\site-packages\\sklearn\\utils\\validation.py\u001b[0m in \u001b[0;36minner_f\u001b[1;34m(*args, **kwargs)\u001b[0m\n\u001b[0;32m     70\u001b[0m                           FutureWarning)\n\u001b[0;32m     71\u001b[0m         \u001b[0mkwargs\u001b[0m\u001b[1;33m.\u001b[0m\u001b[0mupdate\u001b[0m\u001b[1;33m(\u001b[0m\u001b[1;33m{\u001b[0m\u001b[0mk\u001b[0m\u001b[1;33m:\u001b[0m \u001b[0marg\u001b[0m \u001b[1;32mfor\u001b[0m \u001b[0mk\u001b[0m\u001b[1;33m,\u001b[0m \u001b[0marg\u001b[0m \u001b[1;32min\u001b[0m \u001b[0mzip\u001b[0m\u001b[1;33m(\u001b[0m\u001b[0msig\u001b[0m\u001b[1;33m.\u001b[0m\u001b[0mparameters\u001b[0m\u001b[1;33m,\u001b[0m \u001b[0margs\u001b[0m\u001b[1;33m)\u001b[0m\u001b[1;33m}\u001b[0m\u001b[1;33m)\u001b[0m\u001b[1;33m\u001b[0m\u001b[1;33m\u001b[0m\u001b[0m\n\u001b[1;32m---> 72\u001b[1;33m         \u001b[1;32mreturn\u001b[0m \u001b[0mf\u001b[0m\u001b[1;33m(\u001b[0m\u001b[1;33m**\u001b[0m\u001b[0mkwargs\u001b[0m\u001b[1;33m)\u001b[0m\u001b[1;33m\u001b[0m\u001b[1;33m\u001b[0m\u001b[0m\n\u001b[0m\u001b[0;32m     73\u001b[0m     \u001b[1;32mreturn\u001b[0m \u001b[0minner_f\u001b[0m\u001b[1;33m\u001b[0m\u001b[1;33m\u001b[0m\u001b[0m\n\u001b[0;32m     74\u001b[0m \u001b[1;33m\u001b[0m\u001b[0m\n",
      "\u001b[1;32mC:\\ProgramData\\Anaconda3\\lib\\site-packages\\sklearn\\utils\\validation.py\u001b[0m in \u001b[0;36mcheck_X_y\u001b[1;34m(X, y, accept_sparse, accept_large_sparse, dtype, order, copy, force_all_finite, ensure_2d, allow_nd, multi_output, ensure_min_samples, ensure_min_features, y_numeric, estimator)\u001b[0m\n\u001b[0;32m    793\u001b[0m         \u001b[1;32mraise\u001b[0m \u001b[0mValueError\u001b[0m\u001b[1;33m(\u001b[0m\u001b[1;34m\"y cannot be None\"\u001b[0m\u001b[1;33m)\u001b[0m\u001b[1;33m\u001b[0m\u001b[1;33m\u001b[0m\u001b[0m\n\u001b[0;32m    794\u001b[0m \u001b[1;33m\u001b[0m\u001b[0m\n\u001b[1;32m--> 795\u001b[1;33m     X = check_array(X, accept_sparse=accept_sparse,\n\u001b[0m\u001b[0;32m    796\u001b[0m                     \u001b[0maccept_large_sparse\u001b[0m\u001b[1;33m=\u001b[0m\u001b[0maccept_large_sparse\u001b[0m\u001b[1;33m,\u001b[0m\u001b[1;33m\u001b[0m\u001b[1;33m\u001b[0m\u001b[0m\n\u001b[0;32m    797\u001b[0m                     \u001b[0mdtype\u001b[0m\u001b[1;33m=\u001b[0m\u001b[0mdtype\u001b[0m\u001b[1;33m,\u001b[0m \u001b[0morder\u001b[0m\u001b[1;33m=\u001b[0m\u001b[0morder\u001b[0m\u001b[1;33m,\u001b[0m \u001b[0mcopy\u001b[0m\u001b[1;33m=\u001b[0m\u001b[0mcopy\u001b[0m\u001b[1;33m,\u001b[0m\u001b[1;33m\u001b[0m\u001b[1;33m\u001b[0m\u001b[0m\n",
      "\u001b[1;32mC:\\ProgramData\\Anaconda3\\lib\\site-packages\\sklearn\\utils\\validation.py\u001b[0m in \u001b[0;36minner_f\u001b[1;34m(*args, **kwargs)\u001b[0m\n\u001b[0;32m     70\u001b[0m                           FutureWarning)\n\u001b[0;32m     71\u001b[0m         \u001b[0mkwargs\u001b[0m\u001b[1;33m.\u001b[0m\u001b[0mupdate\u001b[0m\u001b[1;33m(\u001b[0m\u001b[1;33m{\u001b[0m\u001b[0mk\u001b[0m\u001b[1;33m:\u001b[0m \u001b[0marg\u001b[0m \u001b[1;32mfor\u001b[0m \u001b[0mk\u001b[0m\u001b[1;33m,\u001b[0m \u001b[0marg\u001b[0m \u001b[1;32min\u001b[0m \u001b[0mzip\u001b[0m\u001b[1;33m(\u001b[0m\u001b[0msig\u001b[0m\u001b[1;33m.\u001b[0m\u001b[0mparameters\u001b[0m\u001b[1;33m,\u001b[0m \u001b[0margs\u001b[0m\u001b[1;33m)\u001b[0m\u001b[1;33m}\u001b[0m\u001b[1;33m)\u001b[0m\u001b[1;33m\u001b[0m\u001b[1;33m\u001b[0m\u001b[0m\n\u001b[1;32m---> 72\u001b[1;33m         \u001b[1;32mreturn\u001b[0m \u001b[0mf\u001b[0m\u001b[1;33m(\u001b[0m\u001b[1;33m**\u001b[0m\u001b[0mkwargs\u001b[0m\u001b[1;33m)\u001b[0m\u001b[1;33m\u001b[0m\u001b[1;33m\u001b[0m\u001b[0m\n\u001b[0m\u001b[0;32m     73\u001b[0m     \u001b[1;32mreturn\u001b[0m \u001b[0minner_f\u001b[0m\u001b[1;33m\u001b[0m\u001b[1;33m\u001b[0m\u001b[0m\n\u001b[0;32m     74\u001b[0m \u001b[1;33m\u001b[0m\u001b[0m\n",
      "\u001b[1;32mC:\\ProgramData\\Anaconda3\\lib\\site-packages\\sklearn\\utils\\validation.py\u001b[0m in \u001b[0;36mcheck_array\u001b[1;34m(array, accept_sparse, accept_large_sparse, dtype, order, copy, force_all_finite, ensure_2d, allow_nd, ensure_min_samples, ensure_min_features, estimator)\u001b[0m\n\u001b[0;32m    596\u001b[0m                     \u001b[0marray\u001b[0m \u001b[1;33m=\u001b[0m \u001b[0marray\u001b[0m\u001b[1;33m.\u001b[0m\u001b[0mastype\u001b[0m\u001b[1;33m(\u001b[0m\u001b[0mdtype\u001b[0m\u001b[1;33m,\u001b[0m \u001b[0mcasting\u001b[0m\u001b[1;33m=\u001b[0m\u001b[1;34m\"unsafe\"\u001b[0m\u001b[1;33m,\u001b[0m \u001b[0mcopy\u001b[0m\u001b[1;33m=\u001b[0m\u001b[1;32mFalse\u001b[0m\u001b[1;33m)\u001b[0m\u001b[1;33m\u001b[0m\u001b[1;33m\u001b[0m\u001b[0m\n\u001b[0;32m    597\u001b[0m                 \u001b[1;32melse\u001b[0m\u001b[1;33m:\u001b[0m\u001b[1;33m\u001b[0m\u001b[1;33m\u001b[0m\u001b[0m\n\u001b[1;32m--> 598\u001b[1;33m                     \u001b[0marray\u001b[0m \u001b[1;33m=\u001b[0m \u001b[0mnp\u001b[0m\u001b[1;33m.\u001b[0m\u001b[0masarray\u001b[0m\u001b[1;33m(\u001b[0m\u001b[0marray\u001b[0m\u001b[1;33m,\u001b[0m \u001b[0morder\u001b[0m\u001b[1;33m=\u001b[0m\u001b[0morder\u001b[0m\u001b[1;33m,\u001b[0m \u001b[0mdtype\u001b[0m\u001b[1;33m=\u001b[0m\u001b[0mdtype\u001b[0m\u001b[1;33m)\u001b[0m\u001b[1;33m\u001b[0m\u001b[1;33m\u001b[0m\u001b[0m\n\u001b[0m\u001b[0;32m    599\u001b[0m             \u001b[1;32mexcept\u001b[0m \u001b[0mComplexWarning\u001b[0m\u001b[1;33m:\u001b[0m\u001b[1;33m\u001b[0m\u001b[1;33m\u001b[0m\u001b[0m\n\u001b[0;32m    600\u001b[0m                 raise ValueError(\"Complex data not supported\\n\"\n",
      "\u001b[1;32m~\\AppData\\Roaming\\Python\\Python38\\site-packages\\numpy\\core\\_asarray.py\u001b[0m in \u001b[0;36masarray\u001b[1;34m(a, dtype, order)\u001b[0m\n\u001b[0;32m     81\u001b[0m \u001b[1;33m\u001b[0m\u001b[0m\n\u001b[0;32m     82\u001b[0m     \"\"\"\n\u001b[1;32m---> 83\u001b[1;33m     \u001b[1;32mreturn\u001b[0m \u001b[0marray\u001b[0m\u001b[1;33m(\u001b[0m\u001b[0ma\u001b[0m\u001b[1;33m,\u001b[0m \u001b[0mdtype\u001b[0m\u001b[1;33m,\u001b[0m \u001b[0mcopy\u001b[0m\u001b[1;33m=\u001b[0m\u001b[1;32mFalse\u001b[0m\u001b[1;33m,\u001b[0m \u001b[0morder\u001b[0m\u001b[1;33m=\u001b[0m\u001b[0morder\u001b[0m\u001b[1;33m)\u001b[0m\u001b[1;33m\u001b[0m\u001b[1;33m\u001b[0m\u001b[0m\n\u001b[0m\u001b[0;32m     84\u001b[0m \u001b[1;33m\u001b[0m\u001b[0m\n\u001b[0;32m     85\u001b[0m \u001b[1;33m\u001b[0m\u001b[0m\n",
      "\u001b[1;32mC:\\ProgramData\\Anaconda3\\lib\\site-packages\\pandas\\core\\generic.py\u001b[0m in \u001b[0;36m__array__\u001b[1;34m(self, dtype)\u001b[0m\n\u001b[0;32m   1779\u001b[0m \u001b[1;33m\u001b[0m\u001b[0m\n\u001b[0;32m   1780\u001b[0m     \u001b[1;32mdef\u001b[0m \u001b[0m__array__\u001b[0m\u001b[1;33m(\u001b[0m\u001b[0mself\u001b[0m\u001b[1;33m,\u001b[0m \u001b[0mdtype\u001b[0m\u001b[1;33m=\u001b[0m\u001b[1;32mNone\u001b[0m\u001b[1;33m)\u001b[0m \u001b[1;33m->\u001b[0m \u001b[0mnp\u001b[0m\u001b[1;33m.\u001b[0m\u001b[0mndarray\u001b[0m\u001b[1;33m:\u001b[0m\u001b[1;33m\u001b[0m\u001b[1;33m\u001b[0m\u001b[0m\n\u001b[1;32m-> 1781\u001b[1;33m         \u001b[1;32mreturn\u001b[0m \u001b[0mnp\u001b[0m\u001b[1;33m.\u001b[0m\u001b[0masarray\u001b[0m\u001b[1;33m(\u001b[0m\u001b[0mself\u001b[0m\u001b[1;33m.\u001b[0m\u001b[0m_values\u001b[0m\u001b[1;33m,\u001b[0m \u001b[0mdtype\u001b[0m\u001b[1;33m=\u001b[0m\u001b[0mdtype\u001b[0m\u001b[1;33m)\u001b[0m\u001b[1;33m\u001b[0m\u001b[1;33m\u001b[0m\u001b[0m\n\u001b[0m\u001b[0;32m   1782\u001b[0m \u001b[1;33m\u001b[0m\u001b[0m\n\u001b[0;32m   1783\u001b[0m     \u001b[1;32mdef\u001b[0m \u001b[0m__array_wrap__\u001b[0m\u001b[1;33m(\u001b[0m\u001b[0mself\u001b[0m\u001b[1;33m,\u001b[0m \u001b[0mresult\u001b[0m\u001b[1;33m,\u001b[0m \u001b[0mcontext\u001b[0m\u001b[1;33m=\u001b[0m\u001b[1;32mNone\u001b[0m\u001b[1;33m)\u001b[0m\u001b[1;33m:\u001b[0m\u001b[1;33m\u001b[0m\u001b[1;33m\u001b[0m\u001b[0m\n",
      "\u001b[1;32m~\\AppData\\Roaming\\Python\\Python38\\site-packages\\numpy\\core\\_asarray.py\u001b[0m in \u001b[0;36masarray\u001b[1;34m(a, dtype, order)\u001b[0m\n\u001b[0;32m     81\u001b[0m \u001b[1;33m\u001b[0m\u001b[0m\n\u001b[0;32m     82\u001b[0m     \"\"\"\n\u001b[1;32m---> 83\u001b[1;33m     \u001b[1;32mreturn\u001b[0m \u001b[0marray\u001b[0m\u001b[1;33m(\u001b[0m\u001b[0ma\u001b[0m\u001b[1;33m,\u001b[0m \u001b[0mdtype\u001b[0m\u001b[1;33m,\u001b[0m \u001b[0mcopy\u001b[0m\u001b[1;33m=\u001b[0m\u001b[1;32mFalse\u001b[0m\u001b[1;33m,\u001b[0m \u001b[0morder\u001b[0m\u001b[1;33m=\u001b[0m\u001b[0morder\u001b[0m\u001b[1;33m)\u001b[0m\u001b[1;33m\u001b[0m\u001b[1;33m\u001b[0m\u001b[0m\n\u001b[0m\u001b[0;32m     84\u001b[0m \u001b[1;33m\u001b[0m\u001b[0m\n\u001b[0;32m     85\u001b[0m \u001b[1;33m\u001b[0m\u001b[0m\n",
      "\u001b[1;31mValueError\u001b[0m: could not convert string to float: 'SCH'"
     ]
    }
   ],
   "source": [
    "imp_cat = Series(mutual_info_classif(data[bin_cols + cat_cols], data['default'],\n",
    "                                     discrete_features =True), index = bin_cols + cat_cols)\n",
    "imp_cat.sort_values(inplace = True)\n",
    "imp_cat.plot(kind = 'barh')"
   ]
  },
  {
   "cell_type": "markdown",
   "metadata": {},
   "source": [
    "Упс! Что-то пошло не так...\n",
    "\n",
    "##### Задание 1\n",
    "mutual_info_classif сначала требует, чтобы категориальные значения были сопоставлены с целочисленными значениями, и нам в этом помешал один столбец. Какой?\n",
    "- answer: education\n",
    "\n",
    "Преобразуйте этот признак в численный формат, а затем определите важность признаков.\n",
    "Какой признак самый важный из категориальных?\n",
    "- answer: home_address\n",
    "\n",
    "Какой признак является наименее важным по мнению mutual_info_classif?\n",
    "- answer: sex"
   ]
  },
  {
   "cell_type": "code",
   "execution_count": 19,
   "metadata": {},
   "outputs": [],
   "source": [
    "data['education'] = data['education'].fillna('unknown') "
   ]
  },
  {
   "cell_type": "code",
   "execution_count": 20,
   "metadata": {},
   "outputs": [],
   "source": [
    "le = LabelEncoder()\n",
    "le.fit(data[\"education\"])\n",
    "data[\"education\"] = le.transform(data[\"education\"])"
   ]
  },
  {
   "cell_type": "code",
   "execution_count": 21,
   "metadata": {},
   "outputs": [
    {
     "data": {
      "text/html": [
       "<div>\n",
       "<style scoped>\n",
       "    .dataframe tbody tr th:only-of-type {\n",
       "        vertical-align: middle;\n",
       "    }\n",
       "\n",
       "    .dataframe tbody tr th {\n",
       "        vertical-align: top;\n",
       "    }\n",
       "\n",
       "    .dataframe thead th {\n",
       "        text-align: right;\n",
       "    }\n",
       "</style>\n",
       "<table border=\"1\" class=\"dataframe\">\n",
       "  <thead>\n",
       "    <tr style=\"text-align: right;\">\n",
       "      <th></th>\n",
       "      <th>education</th>\n",
       "      <th>home_address</th>\n",
       "      <th>work_address</th>\n",
       "    </tr>\n",
       "  </thead>\n",
       "  <tbody>\n",
       "    <tr>\n",
       "      <th>0</th>\n",
       "      <td>3</td>\n",
       "      <td>1</td>\n",
       "      <td>2</td>\n",
       "    </tr>\n",
       "    <tr>\n",
       "      <th>1</th>\n",
       "      <td>3</td>\n",
       "      <td>2</td>\n",
       "      <td>3</td>\n",
       "    </tr>\n",
       "    <tr>\n",
       "      <th>2</th>\n",
       "      <td>3</td>\n",
       "      <td>1</td>\n",
       "      <td>2</td>\n",
       "    </tr>\n",
       "    <tr>\n",
       "      <th>3</th>\n",
       "      <td>3</td>\n",
       "      <td>2</td>\n",
       "      <td>3</td>\n",
       "    </tr>\n",
       "    <tr>\n",
       "      <th>4</th>\n",
       "      <td>1</td>\n",
       "      <td>2</td>\n",
       "      <td>3</td>\n",
       "    </tr>\n",
       "    <tr>\n",
       "      <th>...</th>\n",
       "      <td>...</td>\n",
       "      <td>...</td>\n",
       "      <td>...</td>\n",
       "    </tr>\n",
       "    <tr>\n",
       "      <th>73794</th>\n",
       "      <td>1</td>\n",
       "      <td>1</td>\n",
       "      <td>2</td>\n",
       "    </tr>\n",
       "    <tr>\n",
       "      <th>73795</th>\n",
       "      <td>3</td>\n",
       "      <td>2</td>\n",
       "      <td>2</td>\n",
       "    </tr>\n",
       "    <tr>\n",
       "      <th>73796</th>\n",
       "      <td>3</td>\n",
       "      <td>2</td>\n",
       "      <td>3</td>\n",
       "    </tr>\n",
       "    <tr>\n",
       "      <th>73797</th>\n",
       "      <td>3</td>\n",
       "      <td>1</td>\n",
       "      <td>3</td>\n",
       "    </tr>\n",
       "    <tr>\n",
       "      <th>73798</th>\n",
       "      <td>1</td>\n",
       "      <td>2</td>\n",
       "      <td>3</td>\n",
       "    </tr>\n",
       "  </tbody>\n",
       "</table>\n",
       "<p>73799 rows × 3 columns</p>\n",
       "</div>"
      ],
      "text/plain": [
       "       education  home_address  work_address\n",
       "0              3             1             2\n",
       "1              3             2             3\n",
       "2              3             1             2\n",
       "3              3             2             3\n",
       "4              1             2             3\n",
       "...          ...           ...           ...\n",
       "73794          1             1             2\n",
       "73795          3             2             2\n",
       "73796          3             2             3\n",
       "73797          3             1             3\n",
       "73798          1             2             3\n",
       "\n",
       "[73799 rows x 3 columns]"
      ]
     },
     "execution_count": 21,
     "metadata": {},
     "output_type": "execute_result"
    }
   ],
   "source": [
    "data[cat_cols]"
   ]
  },
  {
   "cell_type": "markdown",
   "metadata": {},
   "source": [
    "- SCH - school\n",
    "- UGR - undergraduate (Bachelor)\n",
    "- GRD - graduate (Master or PhD)\n",
    "- PGR - postgraduate (Master or PhD)\n",
    "- ACD - Academic Career Development (Professor?)"
   ]
  },
  {
   "cell_type": "code",
   "execution_count": 22,
   "metadata": {},
   "outputs": [
    {
     "data": {
      "text/plain": [
       "<AxesSubplot:>"
      ]
     },
     "execution_count": 22,
     "metadata": {},
     "output_type": "execute_result"
    },
    {
     "data": {
      "image/png": "[encoded data removed]",
      "text/plain": [
       "<Figure size 432x288 with 1 Axes>"
      ]
     },
     "metadata": {
      "needs_background": "light"
     },
     "output_type": "display_data"
    }
   ],
   "source": [
    "imp_cat = Series(f_classif(data[cat_cols], data['default'])[0], index = cat_cols)\n",
    "imp_cat.sort_values(inplace = True)\n",
    "imp_cat.plot(kind = 'barh')"
   ]
  },
  {
   "cell_type": "code",
   "execution_count": 23,
   "metadata": {},
   "outputs": [
    {
     "data": {
      "text/plain": [
       "<AxesSubplot:>"
      ]
     },
     "execution_count": 23,
     "metadata": {},
     "output_type": "execute_result"
    },
    {
     "data": {
      "image/png": "[encoded data removed]",
      "text/plain": [
       "<Figure size 432x288 with 1 Axes>"
      ]
     },
     "metadata": {
      "needs_background": "light"
     },
     "output_type": "display_data"
    }
   ],
   "source": [
    "imp_cat = Series(mutual_info_classif(data[bin_cols + cat_cols], data['default'],\n",
    "                                     discrete_features =True), index = bin_cols + cat_cols)\n",
    "imp_cat.sort_values(inplace = True)\n",
    "imp_cat.plot(kind = 'barh')"
   ]
  },
  {
   "cell_type": "markdown",
   "metadata": {},
   "source": [
    "# 9. Подготовка данных к машинному обучению\n",
    "\n",
    "Перед обучением регрессии нам следует стандартизировать числовые признаки, а также воспользоваться \n",
    "### dummy-кодированием - https://pandas.pydata.org/pandas-docs/stable/reference/api/pandas.get_dummies.html\n",
    "для категориальных переменных, то есть создать отдельную бинарную переменную для каждой категории.\n",
    "\n",
    "Как вы уже поняли, LabelEncoder не совсем подходит для признаков с двумя и большим количеством категорий. Для того, чтобы мы смогли применять линейные модели на таких данных, нам необходим другой метод, который называется One-Hot Encoding. Смысл его точно такой же, как у dummy-кодирования.\n",
    "\n",
    "Предположим, что некоторый признак может принимать пять разных значений. В этом случае One \n",
    "### Hot Encoding - https://www.kaggle.com/dansbecker/using-categorical-data-with-one-hot-encoding\n",
    "подразумевает создание пяти новых признаков, все из которых равны нулю, за исключением одного. На позицию, соответствующую численному значению признака, мы помещаем .\n",
    "\n",
    "Эта техника реализована в sklearn.preprocessing в классе OneHotEncoder. По умолчанию \n",
    "### OneHotEncoder - https://scikit-learn.org/stable/modules/generated/sklearn.preprocessing.OneHotEncoder.html\n",
    "преобразует данные в разреженную матрицу, чтобы не расходовать память на хранение многочисленных нулей."
   ]
  },
  {
   "cell_type": "code",
   "execution_count": 24,
   "metadata": {},
   "outputs": [],
   "source": [
    "X_cat = OneHotEncoder(sparse = False).fit_transform(data[cat_cols].values)"
   ]
  },
  {
   "cell_type": "code",
   "execution_count": 32,
   "metadata": {},
   "outputs": [
    {
     "data": {
      "text/plain": [
       "array([[0., 0., 0., ..., 0., 1., 0.],\n",
       "       [0., 0., 0., ..., 0., 0., 1.],\n",
       "       [0., 0., 0., ..., 0., 1., 0.],\n",
       "       ...,\n",
       "       [0., 0., 0., ..., 0., 0., 1.],\n",
       "       [0., 0., 0., ..., 0., 0., 1.],\n",
       "       [0., 1., 0., ..., 0., 0., 1.]])"
      ]
     },
     "execution_count": 32,
     "metadata": {},
     "output_type": "execute_result"
    }
   ],
   "source": [
    "X_cat"
   ]
  },
  {
   "cell_type": "markdown",
   "metadata": {},
   "source": [
    "Затем каждое целочисленное значение представляется в виде двоичного вектора. Он в свою очередь представляет собой все нулевые значения, кроме индекса целого числа, который отмечен 1. Когда для выходной переменной используется One Hot Encoding, группа закодированных переменных может предложить более детальный набор предсказаний, чем одна метка.\n",
    "##### Задание 1\n",
    "Сколько столбцов вы получили после преобразования данных?\n",
    "- answer: 11\n",
    "Верно:\n",
    "Мы получили 11 столбцов — именно столько различных уникальных значений могут принимать категориальные столбцы исходной выборки. Преобразованные с помощью One-Hot Encoding данные начинают обретать смысл для линейной модели."
   ]
  },
  {
   "cell_type": "code",
   "execution_count": 33,
   "metadata": {},
   "outputs": [
    {
     "data": {
      "text/plain": [
       "(73799, 11)"
      ]
     },
     "execution_count": 33,
     "metadata": {},
     "output_type": "execute_result"
    }
   ],
   "source": [
    "X_cat.shape"
   ]
  },
  {
   "cell_type": "markdown",
   "metadata": {},
   "source": [
    "Стандартизируем числовые переменные:"
   ]
  },
  {
   "cell_type": "code",
   "execution_count": 34,
   "metadata": {},
   "outputs": [],
   "source": [
    "# Стандартизация числовых переменных\n",
    "\n",
    "X_num = StandardScaler().fit_transform(data[num_cols].values)"
   ]
  },
  {
   "cell_type": "code",
   "execution_count": 39,
   "metadata": {},
   "outputs": [
    {
     "data": {
      "text/plain": [
       "array([[ 1.97211528, -0.34285766, -0.50036327, ...,  0.        ,\n",
       "         1.        ,  0.        ],\n",
       "       [ 1.71170539, -0.34285766, -0.47870231, ...,  0.        ,\n",
       "         0.        ,  1.        ],\n",
       "       [-1.23960668,  2.14387966, -0.24043177, ...,  0.        ,\n",
       "         1.        ,  0.        ],\n",
       "       ...,\n",
       "       [-0.7187869 , -0.34285766,  0.0844826 , ...,  0.        ,\n",
       "         0.        ,  1.        ],\n",
       "       [-0.8923935 , -0.34285766, -0.60866806, ...,  0.        ,\n",
       "         0.        ,  1.        ],\n",
       "       [-0.45837702, -0.34285766, -0.34873656, ...,  0.        ,\n",
       "         0.        ,  1.        ]])"
      ]
     },
     "execution_count": 39,
     "metadata": {},
     "output_type": "execute_result"
    }
   ],
   "source": [
    "X"
   ]
  },
  {
   "cell_type": "markdown",
   "metadata": {},
   "source": [
    "И объединим стандартизованные числовые, бинарные и закодированные категориальные переменные в одно признаковое пространство, разделив при этом признаки и целевую переменную."
   ]
  },
  {
   "cell_type": "code",
   "execution_count": 36,
   "metadata": {},
   "outputs": [],
   "source": [
    "# Объединяем\n",
    "\n",
    "X = np.hstack([X_num, data[bin_cols].values, X_cat])\n",
    "Y = data['default'].values"
   ]
  },
  {
   "cell_type": "markdown",
   "metadata": {},
   "source": [
    "→ Подготовка признаков для модели завершена. \n",
    "\n",
    "\tЗа окном тем временем уже начало смеркаться, однако вы намерены закончить работу сегодня. То-то Коля удивится, когда с утра вы покажете ему готовенькую модель!\n",
    "    \n",
    "Разделим данные для обучения следующим образом:"
   ]
  },
  {
   "cell_type": "code",
   "execution_count": 28,
   "metadata": {},
   "outputs": [],
   "source": [
    "X_train, X_test, y_train, y_test = train_test_split(X, Y, test_size=0.20, random_state=42)"
   ]
  },
  {
   "cell_type": "markdown",
   "metadata": {},
   "source": [
    "→ ЗАДАНИЕ\n",
    "\n",
    "Обучите модель на стандартных настройках \n",
    "### логистической регрессии. - https://scikit-learn.org/stable/modules/generated/sklearn.linear_model.LogisticRegression.html"
   ]
  },
  {
   "cell_type": "markdown",
   "metadata": {},
   "source": [
    "# 10. Оценка качества модели\n",
    "\n",
    "В качестве методов оценки прогностической способности модели вы решаете использовать ROC-анализ.\n",
    "\n",
    "Вы прекрасно помните из модуля по Классификации, что классификатор имеет параметр порог отсечения. Изменяя его значение, мы получаем то или иное разбиение на два класса — класс с положительными исходами и класс с отрицательными исходами.\n",
    "\n",
    "В нашем примере положительным исходом будет наличие дефолта у заемщика, отрицательным — отсутствие дефолта.\n",
    "\n",
    "Спрогнозировано моделью\tФактически\n",
    "Дефолт\tНе-дефолт\n",
    "Дефолт\t\n",
    "TP\n",
    "\n",
    "истинно положительные \n",
    "(дефолт классифицирован как дефолт)\n",
    "FP\n",
    "\n",
    "лолжно положительные\n",
    "(не-дефолт классифицирован как дефолт)\n",
    "\n",
    "ОШИБКА II РОДА\n",
    "Не-дефолт\t\n",
    "FN\n",
    "\n",
    "ложно отрицательные\n",
    "(дефолт классифицирован как не-дефолт)\n",
    "\n",
    "ОШИБКА I РОДА\n",
    "TN\n",
    "истинно отрицательные\n",
    "(не-дефолт классифицирован как не-дефолт)\n",
    "\n",
    "→ Доля положительных результатов у «плохих» заемщиков (истинно положительных результатов) — это чувствительность модели (Sensitivity), то есть способность модели правильно определять «плохих» заемщиков и минимизировать убытки, связанные с выдачей кредита «плохому» клиенту. \n",
    "\n",
    "→ Доля отрицательных результатов у «хороших» заемщиков (истинно отрицательных результатов) — это специфичность модели (Specificity). Здесь речь уже идёт о способности модели правильно определять «хороших» заемщиков и минимизировать убытки, связанные с отказом в выдаче кредита добросовестному клиенту. \n",
    "\n",
    "Написав код для построения ROC AUС, вы получили значение метрики 0.677:"
   ]
  },
  {
   "cell_type": "code",
   "execution_count": 29,
   "metadata": {},
   "outputs": [
    {
     "data": {
      "image/png": "[encoded data removed]",
      "text/plain": [
       "<Figure size 432x288 with 1 Axes>"
      ]
     },
     "metadata": {
      "needs_background": "light"
     },
     "output_type": "display_data"
    }
   ],
   "source": [
    "model = LogisticRegression()\n",
    "model.fit(X_train, y_train)\n",
    "\n",
    "probs = model.predict_proba(X_test)\n",
    "probs = probs[:,1]\n",
    "\n",
    "\n",
    "fpr, tpr, threshold = roc_curve(y_test, probs)\n",
    "roc_auc = roc_auc_score(y_test, probs)\n",
    "\n",
    "plt.figure()\n",
    "plt.plot([0, 1], label='Baseline', linestyle='--')\n",
    "plt.plot(fpr, tpr, label = 'Regression')\n",
    "plt.title('Logistic Regression ROC AUC = %0.3f' % roc_auc)\n",
    "plt.ylabel('True Positive Rate')\n",
    "plt.xlabel('False Positive Rate')\n",
    "plt.legend(loc = 'lower right')\n",
    "plt.show()"
   ]
  },
  {
   "cell_type": "markdown",
   "metadata": {},
   "source": [
    "Даже без глубокого отбора и конструирования признаков вам удалось построить модель, чья предсказательная сила заметно отличается от случайного угадывания. Это означает, что шансы построить качественную модель с помощью дополнительной обработки данных достаточно высоки, и вы принимаете решение заняться этим завтра же.\n",
    "\n",
    "#####  ПОЛЕЗНЫЕ ССЫЛКИ\n",
    "\n",
    "#### roc.curve - https://scikit-learn.org/stable/modules/generated/sklearn.metrics.roc_curve.html\n",
    "#### plot_roc - https://scikit-learn.org/stable/auto_examples/model_selection/plot_roc.html"
   ]
  },
  {
   "cell_type": "markdown",
   "metadata": {},
   "source": [
    "# 11. На следующее утро...\n",
    "\n",
    "Доброе рабочее утро оказалось действительно добрым: в воздухе чувствовалось оживление, все в офисе заняты делами, компьютеры гудят — скуки как не бывало! «Вот в такой атмосфере я не прочь работать!» — удовлетворённо киваете вы, садясь за рабочий стол. Внезапно вы замечаете стикер, приклеенный к экрану монитора. Кто-то оставил вам записку:\n",
    "\n",
    "\t...Хм, это ещё что такое? А, ну да, ре-гу-ля-ри-за-ция! Вчера напрочь вылетело из головы!\n",
    "\n",
    "Только вот кто бы мог оставить вам записку? Так приятна такая забота... Но разбираться с этим придётся позже.\n",
    "### СОВЕТ НЕИЗВЕСТНОГО: РЕГУЛЯРИЗАЦИЯ\n",
    "\n",
    "Гиперпараметры — это внешние параметры для классификатора, которые не могут быть изучены самим классификатором и чаще всего задаются вручную. Логистическая регрессия, например, не способна сама выучить наилучшее значение для, например, параметра С.  В scikit-learn они передаются в качестве аргументов конструктору класса. Найдя оптимальные параметры, мы можем улучшить предсказательную силу нашей логистической регрессии.\n",
    "\n",
    "→ О разнице параметров модели и гиперпараметрах вы можете прочесть на сайте \n",
    "### machinelearningmastery.ru. - https://www.machinelearningmastery.ru/difference-between-a-parameter-and-a-hyperparameter/\n",
    "\n",
    "Давайте найдем оптимальное значение параметра регуляризации для **логистической регрессии.** - https://scikit-learn.org/stable/modules/generated/sklearn.linear_model.LogisticRegression.html\n",
    "\n",
    "В scikit-learn есть два общих подхода к поиску: с помощью **GridSearchCV** - https://scikit-learn.org/stable/modules/generated/sklearn.model_selection.GridSearchCV.html  и **RandomizedSearchCV**. - https://scikit-learn.org/stable/modules/generated/sklearn.model_selection.RandomizedSearchCV.html#sklearn.model_selection.RandomizedSearchCV\n",
    "\n",
    "В этом примере мы рассмотрим поиск гиперпараметров GridSearchCV при помощи перебора параметров по сетке с последующей кросс-валидацией. "
   ]
  },
  {
   "cell_type": "code",
   "execution_count": 40,
   "metadata": {},
   "outputs": [
    {
     "name": "stdout",
     "output_type": "stream",
     "text": [
      "Лучшее Penalty: l2\n",
      "Лучшее C: 1.0\n"
     ]
    }
   ],
   "source": [
    "from sklearn.model_selection import GridSearchCV\n",
    "\n",
    "# Добавим типы регуляризации\n",
    "penalty = ['l1', 'l2']\n",
    "\n",
    "# Зададим ограничения для параметра регуляризации\n",
    "C = np.logspace(0, 4, 10)\n",
    "\n",
    "# Создадим гиперпараметры\n",
    "hyperparameters = dict(C=C, penalty=penalty)\n",
    "\n",
    "model = LogisticRegression()\n",
    "model.fit(X_train, y_train)\n",
    "\n",
    "# Создаем сетку поиска с использованием 5-кратной перекрестной проверки\n",
    "clf = GridSearchCV(model, hyperparameters, cv=5, verbose=0)\n",
    "\n",
    "best_model = clf.fit(X_train, y_train)\n",
    "\n",
    "# View best hyperparameters\n",
    "print('Лучшее Penalty:', best_model.best_estimator_.get_params()['penalty'])\n",
    "print('Лучшее C:', best_model.best_estimator_.get_params()['C'])"
   ]
  },
  {
   "cell_type": "markdown",
   "metadata": {},
   "source": [
    "Лучшее Penalty: l2 \n",
    "\n",
    "Лучшее C: 7.742636826811269\n",
    "\n",
    "Некоторые модели допускают индивидуальные методы поиска, например, как наша логит-модель. Класс LogisticRegressionCV - https://scikit-learn.org/stable/modules/generated/sklearn.linear_model.LogisticRegressionCV.html создан специально для логистической регрессии (для неё известны эффективные алгоритмы перебора параметров).\n",
    "\n",
    "ЗАДАНИЕ ДЛЯ ОБСУЖДЕНИЯ\n",
    "\n",
    "Попробуйте поизменять эти параметры вручную и сделайте выводы о том, как настройка гиперпараметров влияет на оценку модели. Поделитесь своими мыслями с сокурсниками."
   ]
  },
  {
   "cell_type": "markdown",
   "metadata": {},
   "source": [
    "Данные проанализированы, графики построены, обучение запущено. Можно демонстрировать итоги работы. \n",
    "\n",
    "Avatar - Так-так, говоришь, модель уже готова? За один день? Ну показывай.\n",
    "\n",
    "Поначалу Коля явно был полон скептицизма. Спустя 10 минут недоверия в его голосе только прибавилось, но развязка оказалась крайне неожиданной для вас.\n",
    "\n",
    "Avatar - И данные тебе никто не помогал собирать и обрабатывать? И гиперпараметры ты применять умеешь? Хм... Устроим-ка тебе последнюю проверку. Вчера пришли новые данные из БКИ о кредитной истории клиентов. Даю тебе два дня. Можешь брать себе в помощники любого из нашего отдела, я предупрежу ребят. "
   ]
  },
  {
   "cell_type": "markdown",
   "metadata": {},
   "source": [
    "# 12. Готовы принять вызов?\n",
    "\n",
    "\n",
    "\tЧто-то мне подсказывает, что эти «новые» данные он получил не вчера! Если Коля думает, что я не справлюсь, то... Как бы не так! Николай, ваш вызов принят!\n",
    "Как вы уже поняли, вам предстоит улучшить предсказательную силу модели, используя новые данные.\n",
    "\n",
    "Коля разрешил вам воспользоваться помощью команды. Выбор за вами!\n",
    "\n",
    "В одиночку или в команде?\n",
    "\n",
    "ДОПОЛНИТЕЛЬНАЯ ИНФОРМАЦИЯ И ПОДСКАЗКИ\n",
    "\n",
    "Подробное руководство по настройке гиперпараметров можно прочесть в официальной документации.  \n",
    "Если шаги по eda, feature selection, feature engineering обеспечили для нас «хорошую» модель, можно переходить к настройке гиперпараметров. Если же модель нас не удовлетворяет, мы должны вернуться к работе с признаками.\n",
    "\n",
    "#### Я ВОЛК-ОДИНОЧКА!\n",
    "\n",
    "Тогда всё просто: выбирайте любые два дня и приступайте к проекту. Не забывайте про общие дедлайны курса.\n",
    "\n",
    "#### СИЛА В КОМАНДЕ!\n",
    "Шаг 1. Во вкладке «Команды» вы найдёте уже готовые группы. Посмотрите, что они пишут о себе и отправьте запрос на добавление. Максимальное количество участников в группе — три человека.\n",
    "\n",
    "\n",
    "\n",
    "Шаг 2. После добавления в группу представьтесь и расскажите вкратце о себе:\n",
    "\n",
    "какие навыки у вас есть, чем вы можете быть полезны команде;\n",
    "что вам было бы интересно делать в команде, и что можете взять на себя;\n",
    "сообщите о своих временных ресурсах (например: сколько вы готовы уделять времени на это соревнование, и когда вам удобно созваниваться с командой);\n",
    "оставьте свои контакты для оперативной связи (другие мессенджеры).\n",
    "Шаг 3. Если готовых команд нет, смело создавайте свою! Если вам нужна помощь в сборе команды, обратитесь к тьютору.\n",
    "\n",
    "Шаг 4. После того, как команда будет набрана, всё общение по проекту перейдет в Slack. Создайте закрытый канал в Slack и добавьте туда участников команды и тьютора. Название канала должно выглядеть примерно так: rds-scoring_team-(название команды)_dst-(номер потока).\n",
    "\n",
    "Шаг 5. Выберите время, в которое вы будете выполнять проект, а также определитесь с форматом работы: будете ли вы использовать GitHub или Zoom для созвонов или обойдетесь перепиской в Slack?\n",
    "\n",
    "Шаг 6. В выбранное время каждый участник команды нажимает на кнопку Приступить к экзамену. Веселье начинается!\n",
    "\n",
    "#### ДОПОЛНИТЕЛЬНАЯ ИНФОРМАЦИЯ И ПОДСКАЗКИ\n",
    "\n",
    "- Подробное руководство по настройке гиперпараметров можно прочесть в официальной документации. - https://scikit-learn.org/stable/modules/grid_search.html \n",
    "\n",
    "- Если шаги по eda, feature selection, feature engineering обеспечили для нас «хорошую» модель, можно переходить к настройке гиперпараметров. Если же модель нас не удовлетворяет, мы должны вернуться к работе с признаками."
   ]
  },
  {
   "cell_type": "markdown",
   "metadata": {},
   "source": [
    "# Хакатон по машинному обучению\n",
    " Добавить страницу в мои закладки\n",
    "\n",
    "\n",
    "КАК БУДЕМ ОПРЕДЕЛЯТЬ ПОБЕДИТЕЛЯ?\n",
    "\n",
    "В этом нам опять поможет Kaggle.\n",
    "\n",
    " ПЕРЕЙТИ К СОРЕВНОВАНИЮ\n",
    " \n",
    "Вам нужно будет создать группу (или добавиться в уже существующую) для совместного участия в этом соревновании (определитесь в чате, кто создаст группу на kaggle).\n",
    "Название группы на kaggle укажите аналогично названию группы в Slack.\n",
    "#### РЕКОМЕНДАЦИИ ПО ВЫПОЛНЕНИЮ ПРОЕКТА\n",
    "\n",
    "- Добавьте новые данные в исходный датасет.\n",
    "- Сделайте разведку новых признаков аналогично предыдущим. Используйте визуализацию, поиск уникальных значений, очистку и поиск выбросов там, где это необходимо.\n",
    "- Включите новые признаки в анализ основных переменных, оцените их важность и вклад для модели, подумайте над тем, можно ли сгенерировать новые признаки на основе добавленных\n",
    "- Получите новое значение ROC AUC для новой модели и попробуйте улучшить ее результаты на основе подбора параметра регуляризации\n",
    "\n",
    "Чтобы понять, к какому уровню вам стоит стремиться, достаточно взглянуть на таблицу лидеров соревнования.\n",
    "#### КРИТЕРИИ ОЦЕНКИ\n",
    "Вот по каким критериям проект будет оценивать ментор:\n",
    "\n",
    "- Качество и оформление кода.\n",
    "- Качество разведывательного анализа (визуализация, очистка данных, работа с выбросами).\n",
    "- Работа с признаками (выбор признаков, генерация новых признаков).\n",
    "- Работа с метрикой ROC AUC.\n",
    "- Умение решать задачи классификации.\n",
    "- *Умение работать в команде.\n",
    "- *Настройка гиперпараметров\n",
    "\n",
    "За каждый критерий можно получить от 0 до 3 баллов. \n",
    "\n",
    "### Что означают баллы:\n",
    "\n",
    "0\tзадание не выполнено или результатами работы невозможно воспользоваться на практике\n",
    "1\tесть большие неточности в выполнении задания\n",
    "2\tзадача решена, требуются минимальные доработки\n",
    "3\tзадача решена полностью, можно использовать результат на практике\n",
    "Максимальное количество баллов — 15.\n",
    "\n",
    "Для успешного прохождения модуля нужно набрать как минимум 9 баллов. \n",
    "\n",
    "#### ОТПРАВИТЬ ПРОЕКТ НА ПРОВЕРКУ\n",
    "\n",
    "Это задание выполняется в несколько шагов. На первом шаге вы даете ответ на вопрос. Следующие шаги появятся ниже поля Ваш ответ.\n",
    "\n",
    "\n",
    "Ваш ответ\n",
    "due 1 янв. 2029 г. 05:00 +05 (in 7 лет, 11 месяцев)\n",
    "\n",
    "ВЫПОЛНЯЕТСЯ\n",
    "\n",
    "Введите свой ответ на вопрос. Вы можете сохранить свою работу и завершить её в любое время до истечения срока сдачи (понедельник, 1 янв. 2029 г. 05:00 +05). После того как вы отправите свой ответ на проверку, вы не сможете его изменить.\n",
    "\n",
    "Вопрос для этого раздела\n",
    "Шаг 1. В качестве ответа на задание:\n",
    "\n",
    "1. Укажите название команды/никнейма на Kaggle, чтобы мы могли найти вас на лидерборде\n",
    "\n",
    "2. Укажите значение метрики, которого вам удалось добиться\n",
    "\n",
    "3. Прикрепите ссылку на github с вашим решением\n",
    "\n",
    "4.*Если вы работали в команде, ответьте на вопросы: \n",
    "\n",
    "Кратко опишите, что вы делали в рамках проекта.\n",
    "Как вы оцениваете свой вклад в командную работу?\n",
    "Шаг 2. Позднее ментор даст вам развернутую обратную связь. \n",
    "\n",
    "Ваш ответ (обязательно)\n",
    "Введите свой ответ на приведённый выше вопрос.\n"
   ]
  },
  {
   "cell_type": "code",
   "execution_count": null,
   "metadata": {},
   "outputs": [],
   "source": [
    "чат: https://habr.com/ru/post/349078/\n",
    "https://www.coursera.org/lecture/supervised-learning/niesbalansirovannyie-dannyie-M97UX\n"
   ]
  },
  {
   "cell_type": "code",
   "execution_count": null,
   "metadata": {},
   "outputs": [],
   "source": []
  },
  {
   "cell_type": "code",
   "execution_count": null,
   "metadata": {},
   "outputs": [],
   "source": []
  },
  {
   "cell_type": "code",
   "execution_count": null,
   "metadata": {},
   "outputs": [],
   "source": []
  },
  {
   "cell_type": "code",
   "execution_count": null,
   "metadata": {},
   "outputs": [],
   "source": []
  },
  {
   "cell_type": "code",
   "execution_count": null,
   "metadata": {},
   "outputs": [],
   "source": []
  },
  {
   "cell_type": "code",
   "execution_count": null,
   "metadata": {},
   "outputs": [],
   "source": []
  },
  {
   "cell_type": "code",
   "execution_count": null,
   "metadata": {},
   "outputs": [],
   "source": []
  },
  {
   "cell_type": "code",
   "execution_count": null,
   "metadata": {},
   "outputs": [],
   "source": []
  },
  {
   "cell_type": "code",
   "execution_count": null,
   "metadata": {},
   "outputs": [],
   "source": []
  },
  {
   "cell_type": "code",
   "execution_count": null,
   "metadata": {},
   "outputs": [],
   "source": []
  },
  {
   "cell_type": "code",
   "execution_count": null,
   "metadata": {},
   "outputs": [],
   "source": []
  },
  {
   "cell_type": "code",
   "execution_count": null,
   "metadata": {},
   "outputs": [],
   "source": []
  },
  {
   "cell_type": "code",
   "execution_count": null,
   "metadata": {},
   "outputs": [],
   "source": []
  },
  {
   "cell_type": "code",
   "execution_count": null,
   "metadata": {},
   "outputs": [],
   "source": []
  },
  {
   "cell_type": "code",
   "execution_count": null,
   "metadata": {},
   "outputs": [],
   "source": []
  },
  {
   "cell_type": "code",
   "execution_count": null,
   "metadata": {},
   "outputs": [],
   "source": []
  },
  {
   "cell_type": "code",
   "execution_count": null,
   "metadata": {},
   "outputs": [],
   "source": []
  },
  {
   "cell_type": "code",
   "execution_count": null,
   "metadata": {},
   "outputs": [],
   "source": []
  }
 ],
 "metadata": {
  "kernelspec": {
   "display_name": "Python 3",
   "language": "python",
   "name": "python3"
  },
  "language_info": {
   "codemirror_mode": {
    "name": "ipython",
    "version": 3
   },
   "file_extension": ".py",
   "mimetype": "text/x-python",
   "name": "python",
   "nbconvert_exporter": "python",
   "pygments_lexer": "ipython3",
   "version": "3.8.5"
  }
 },
 "nbformat": 4,
 "nbformat_minor": 4
}
